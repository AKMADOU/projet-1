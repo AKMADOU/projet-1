{
  "nbformat": 4,
  "nbformat_minor": 0,
  "metadata": {
    "colab": {
      "name": "ADOU_Kouamé_MathurinLogRegression.ipynb",
      "provenance": [],
      "collapsed_sections": [],
      "include_colab_link": true
    },
    "kernelspec": {
      "name": "python3",
      "display_name": "Python 3"
    },
    "language_info": {
      "name": "python"
    },
    "accelerator": "GPU"
  },
  "cells": [
    {
      "cell_type": "markdown",
      "metadata": {
        "id": "view-in-github",
        "colab_type": "text"
      },
      "source": [
        "<a href=\"https://colab.research.google.com/github/AKMADOU/projet-1/blob/main/ADOU_Kouam%C3%A9_MathurinLogRegression.ipynb\" target=\"_parent\"><img src=\"https://colab.research.google.com/assets/colab-badge.svg\" alt=\"Open In Colab\"/></a>"
      ]
    },
    {
      "cell_type": "markdown",
      "source": [
        "[![Open In Colab](https://colab.research.google.com/assets/colab-badge.svg)](https://colab.research.google.com/github/googlecolab/colabtools/blob/master/notebooks/colab-github-demo.ipynb)"
      ],
      "metadata": {
        "id": "3hu6wCiSyg4B"
      }
    },
    {
      "cell_type": "markdown",
      "source": [
        "# Logistic Regression Implementation"
      ],
      "metadata": {
        "id": "3H4HVu_0ckc5"
      }
    },
    {
      "cell_type": "markdown",
      "source": [
        "# Instructions:\n",
        "1. Save a copy of this notebook in your drive;\n",
        "2. Name it by: `Your_fullname_LogRegression.ipynb`\n",
        "3. Close the original notebook\n",
        "4. Start typing your codes.\n",
        "\n",
        "`Note:` Discuss with your neighbors."
      ],
      "metadata": {
        "id": "7RO8S4CbmJVH"
      }
    },
    {
      "cell_type": "markdown",
      "source": [
        "# Part 1: Data preparation\n",
        "\n",
        "## Import Dataset Libraries"
      ],
      "metadata": {
        "id": "VhL_jPWQZCoX"
      }
    },
    {
      "cell_type": "code",
      "execution_count": 1,
      "metadata": {
        "id": "h5tJBDqB444I"
      },
      "outputs": [],
      "source": [
        "import numpy as np\n",
        "import pandas as pd\n",
        "import matplotlib.pyplot as plt"
      ]
    },
    {
      "cell_type": "code",
      "source": [
        ""
      ],
      "metadata": {
        "id": "7cusH2cQfUtS"
      },
      "execution_count": 1,
      "outputs": []
    },
    {
      "cell_type": "markdown",
      "source": [
        "Question 0: Import the dataset Dataset"
      ],
      "metadata": {
        "id": "wwf9SiJ4ZEvs"
      }
    },
    {
      "cell_type": "code",
      "source": [
        "##### WRITE YOUR CODE HERE #####\n",
        "path= '/content/diabetes.csv'\n",
        "data= pd.read_csv(path)\n",
        "#### END CODE ####"
      ],
      "metadata": {
        "id": "R42UJPRzUYPW"
      },
      "execution_count": 2,
      "outputs": []
    },
    {
      "cell_type": "markdown",
      "source": [
        "Question 1: Print the first five rows of the Dataset"
      ],
      "metadata": {
        "id": "cFQTnXLoXgy4"
      }
    },
    {
      "cell_type": "code",
      "source": [
        "##### WRITE YOUR CODE HERE #####\n",
        "data.head(5)\n",
        "#### END CODE ####"
      ],
      "metadata": {
        "colab": {
          "base_uri": "https://localhost:8080/",
          "height": 206
        },
        "id": "Fj4Vhz42U5fd",
        "outputId": "f60affdb-efba-4209-f004-9f8b923a6862"
      },
      "execution_count": 3,
      "outputs": [
        {
          "output_type": "execute_result",
          "data": {
            "text/html": [
              "\n",
              "  <div id=\"df-061958f3-55a7-4a83-be2b-c0e9b6dd88a5\">\n",
              "    <div class=\"colab-df-container\">\n",
              "      <div>\n",
              "<style scoped>\n",
              "    .dataframe tbody tr th:only-of-type {\n",
              "        vertical-align: middle;\n",
              "    }\n",
              "\n",
              "    .dataframe tbody tr th {\n",
              "        vertical-align: top;\n",
              "    }\n",
              "\n",
              "    .dataframe thead th {\n",
              "        text-align: right;\n",
              "    }\n",
              "</style>\n",
              "<table border=\"1\" class=\"dataframe\">\n",
              "  <thead>\n",
              "    <tr style=\"text-align: right;\">\n",
              "      <th></th>\n",
              "      <th>Pregnancies</th>\n",
              "      <th>Glucose</th>\n",
              "      <th>BloodPressure</th>\n",
              "      <th>SkinThickness</th>\n",
              "      <th>Insulin</th>\n",
              "      <th>BMI</th>\n",
              "      <th>DiabetesPedigreeFunction</th>\n",
              "      <th>Age</th>\n",
              "      <th>Outcome</th>\n",
              "    </tr>\n",
              "  </thead>\n",
              "  <tbody>\n",
              "    <tr>\n",
              "      <th>0</th>\n",
              "      <td>6</td>\n",
              "      <td>148</td>\n",
              "      <td>72</td>\n",
              "      <td>35</td>\n",
              "      <td>0</td>\n",
              "      <td>33.6</td>\n",
              "      <td>0.627</td>\n",
              "      <td>50</td>\n",
              "      <td>1</td>\n",
              "    </tr>\n",
              "    <tr>\n",
              "      <th>1</th>\n",
              "      <td>1</td>\n",
              "      <td>85</td>\n",
              "      <td>66</td>\n",
              "      <td>29</td>\n",
              "      <td>0</td>\n",
              "      <td>26.6</td>\n",
              "      <td>0.351</td>\n",
              "      <td>31</td>\n",
              "      <td>0</td>\n",
              "    </tr>\n",
              "    <tr>\n",
              "      <th>2</th>\n",
              "      <td>8</td>\n",
              "      <td>183</td>\n",
              "      <td>64</td>\n",
              "      <td>0</td>\n",
              "      <td>0</td>\n",
              "      <td>23.3</td>\n",
              "      <td>0.672</td>\n",
              "      <td>32</td>\n",
              "      <td>1</td>\n",
              "    </tr>\n",
              "    <tr>\n",
              "      <th>3</th>\n",
              "      <td>1</td>\n",
              "      <td>89</td>\n",
              "      <td>66</td>\n",
              "      <td>23</td>\n",
              "      <td>94</td>\n",
              "      <td>28.1</td>\n",
              "      <td>0.167</td>\n",
              "      <td>21</td>\n",
              "      <td>0</td>\n",
              "    </tr>\n",
              "    <tr>\n",
              "      <th>4</th>\n",
              "      <td>0</td>\n",
              "      <td>137</td>\n",
              "      <td>40</td>\n",
              "      <td>35</td>\n",
              "      <td>168</td>\n",
              "      <td>43.1</td>\n",
              "      <td>2.288</td>\n",
              "      <td>33</td>\n",
              "      <td>1</td>\n",
              "    </tr>\n",
              "  </tbody>\n",
              "</table>\n",
              "</div>\n",
              "      <button class=\"colab-df-convert\" onclick=\"convertToInteractive('df-061958f3-55a7-4a83-be2b-c0e9b6dd88a5')\"\n",
              "              title=\"Convert this dataframe to an interactive table.\"\n",
              "              style=\"display:none;\">\n",
              "        \n",
              "  <svg xmlns=\"http://www.w3.org/2000/svg\" height=\"24px\"viewBox=\"0 0 24 24\"\n",
              "       width=\"24px\">\n",
              "    <path d=\"M0 0h24v24H0V0z\" fill=\"none\"/>\n",
              "    <path d=\"M18.56 5.44l.94 2.06.94-2.06 2.06-.94-2.06-.94-.94-2.06-.94 2.06-2.06.94zm-11 1L8.5 8.5l.94-2.06 2.06-.94-2.06-.94L8.5 2.5l-.94 2.06-2.06.94zm10 10l.94 2.06.94-2.06 2.06-.94-2.06-.94-.94-2.06-.94 2.06-2.06.94z\"/><path d=\"M17.41 7.96l-1.37-1.37c-.4-.4-.92-.59-1.43-.59-.52 0-1.04.2-1.43.59L10.3 9.45l-7.72 7.72c-.78.78-.78 2.05 0 2.83L4 21.41c.39.39.9.59 1.41.59.51 0 1.02-.2 1.41-.59l7.78-7.78 2.81-2.81c.8-.78.8-2.07 0-2.86zM5.41 20L4 18.59l7.72-7.72 1.47 1.35L5.41 20z\"/>\n",
              "  </svg>\n",
              "      </button>\n",
              "      \n",
              "  <style>\n",
              "    .colab-df-container {\n",
              "      display:flex;\n",
              "      flex-wrap:wrap;\n",
              "      gap: 12px;\n",
              "    }\n",
              "\n",
              "    .colab-df-convert {\n",
              "      background-color: #E8F0FE;\n",
              "      border: none;\n",
              "      border-radius: 50%;\n",
              "      cursor: pointer;\n",
              "      display: none;\n",
              "      fill: #1967D2;\n",
              "      height: 32px;\n",
              "      padding: 0 0 0 0;\n",
              "      width: 32px;\n",
              "    }\n",
              "\n",
              "    .colab-df-convert:hover {\n",
              "      background-color: #E2EBFA;\n",
              "      box-shadow: 0px 1px 2px rgba(60, 64, 67, 0.3), 0px 1px 3px 1px rgba(60, 64, 67, 0.15);\n",
              "      fill: #174EA6;\n",
              "    }\n",
              "\n",
              "    [theme=dark] .colab-df-convert {\n",
              "      background-color: #3B4455;\n",
              "      fill: #D2E3FC;\n",
              "    }\n",
              "\n",
              "    [theme=dark] .colab-df-convert:hover {\n",
              "      background-color: #434B5C;\n",
              "      box-shadow: 0px 1px 3px 1px rgba(0, 0, 0, 0.15);\n",
              "      filter: drop-shadow(0px 1px 2px rgba(0, 0, 0, 0.3));\n",
              "      fill: #FFFFFF;\n",
              "    }\n",
              "  </style>\n",
              "\n",
              "      <script>\n",
              "        const buttonEl =\n",
              "          document.querySelector('#df-061958f3-55a7-4a83-be2b-c0e9b6dd88a5 button.colab-df-convert');\n",
              "        buttonEl.style.display =\n",
              "          google.colab.kernel.accessAllowed ? 'block' : 'none';\n",
              "\n",
              "        async function convertToInteractive(key) {\n",
              "          const element = document.querySelector('#df-061958f3-55a7-4a83-be2b-c0e9b6dd88a5');\n",
              "          const dataTable =\n",
              "            await google.colab.kernel.invokeFunction('convertToInteractive',\n",
              "                                                     [key], {});\n",
              "          if (!dataTable) return;\n",
              "\n",
              "          const docLinkHtml = 'Like what you see? Visit the ' +\n",
              "            '<a target=\"_blank\" href=https://colab.research.google.com/notebooks/data_table.ipynb>data table notebook</a>'\n",
              "            + ' to learn more about interactive tables.';\n",
              "          element.innerHTML = '';\n",
              "          dataTable['output_type'] = 'display_data';\n",
              "          await google.colab.output.renderOutput(dataTable, element);\n",
              "          const docLink = document.createElement('div');\n",
              "          docLink.innerHTML = docLinkHtml;\n",
              "          element.appendChild(docLink);\n",
              "        }\n",
              "      </script>\n",
              "    </div>\n",
              "  </div>\n",
              "  "
            ],
            "text/plain": [
              "   Pregnancies  Glucose  BloodPressure  SkinThickness  Insulin   BMI  \\\n",
              "0            6      148             72             35        0  33.6   \n",
              "1            1       85             66             29        0  26.6   \n",
              "2            8      183             64              0        0  23.3   \n",
              "3            1       89             66             23       94  28.1   \n",
              "4            0      137             40             35      168  43.1   \n",
              "\n",
              "   DiabetesPedigreeFunction  Age  Outcome  \n",
              "0                     0.627   50        1  \n",
              "1                     0.351   31        0  \n",
              "2                     0.672   32        1  \n",
              "3                     0.167   21        0  \n",
              "4                     2.288   33        1  "
            ]
          },
          "metadata": {},
          "execution_count": 3
        }
      ]
    },
    {
      "cell_type": "markdown",
      "source": [
        "Question 2: Check the types of your variables/features"
      ],
      "metadata": {
        "id": "6iVatSkruxwb"
      }
    },
    {
      "cell_type": "code",
      "source": [
        "##### WRITE YOUR CODE HERE #####\n",
        "data.info()\n",
        "#### END CODE ####"
      ],
      "metadata": {
        "colab": {
          "base_uri": "https://localhost:8080/"
        },
        "id": "tM09phY_U8J_",
        "outputId": "72864618-ef12-49bd-c878-f89e0a86842b"
      },
      "execution_count": 4,
      "outputs": [
        {
          "output_type": "stream",
          "name": "stdout",
          "text": [
            "<class 'pandas.core.frame.DataFrame'>\n",
            "RangeIndex: 768 entries, 0 to 767\n",
            "Data columns (total 9 columns):\n",
            " #   Column                    Non-Null Count  Dtype  \n",
            "---  ------                    --------------  -----  \n",
            " 0   Pregnancies               768 non-null    int64  \n",
            " 1   Glucose                   768 non-null    int64  \n",
            " 2   BloodPressure             768 non-null    int64  \n",
            " 3   SkinThickness             768 non-null    int64  \n",
            " 4   Insulin                   768 non-null    int64  \n",
            " 5   BMI                       768 non-null    float64\n",
            " 6   DiabetesPedigreeFunction  768 non-null    float64\n",
            " 7   Age                       768 non-null    int64  \n",
            " 8   Outcome                   768 non-null    int64  \n",
            "dtypes: float64(2), int64(7)\n",
            "memory usage: 54.1 KB\n"
          ]
        }
      ]
    },
    {
      "cell_type": "markdown",
      "source": [
        "Question 3: Describe your dataset"
      ],
      "metadata": {
        "id": "o7idUq99XlAH"
      }
    },
    {
      "cell_type": "code",
      "source": [
        "##### WRITE YOUR CODE HERE #####\n",
        "data.describe()\n",
        "#### END CODE ####"
      ],
      "metadata": {
        "colab": {
          "base_uri": "https://localhost:8080/",
          "height": 300
        },
        "id": "qWo3tf5dZadO",
        "outputId": "35d4deff-39fc-47e7-a79e-90cdd07c1cf5"
      },
      "execution_count": 5,
      "outputs": [
        {
          "output_type": "execute_result",
          "data": {
            "text/html": [
              "\n",
              "  <div id=\"df-89603444-920e-4abf-8e95-0baa6bef6133\">\n",
              "    <div class=\"colab-df-container\">\n",
              "      <div>\n",
              "<style scoped>\n",
              "    .dataframe tbody tr th:only-of-type {\n",
              "        vertical-align: middle;\n",
              "    }\n",
              "\n",
              "    .dataframe tbody tr th {\n",
              "        vertical-align: top;\n",
              "    }\n",
              "\n",
              "    .dataframe thead th {\n",
              "        text-align: right;\n",
              "    }\n",
              "</style>\n",
              "<table border=\"1\" class=\"dataframe\">\n",
              "  <thead>\n",
              "    <tr style=\"text-align: right;\">\n",
              "      <th></th>\n",
              "      <th>Pregnancies</th>\n",
              "      <th>Glucose</th>\n",
              "      <th>BloodPressure</th>\n",
              "      <th>SkinThickness</th>\n",
              "      <th>Insulin</th>\n",
              "      <th>BMI</th>\n",
              "      <th>DiabetesPedigreeFunction</th>\n",
              "      <th>Age</th>\n",
              "      <th>Outcome</th>\n",
              "    </tr>\n",
              "  </thead>\n",
              "  <tbody>\n",
              "    <tr>\n",
              "      <th>count</th>\n",
              "      <td>768.000000</td>\n",
              "      <td>768.000000</td>\n",
              "      <td>768.000000</td>\n",
              "      <td>768.000000</td>\n",
              "      <td>768.000000</td>\n",
              "      <td>768.000000</td>\n",
              "      <td>768.000000</td>\n",
              "      <td>768.000000</td>\n",
              "      <td>768.000000</td>\n",
              "    </tr>\n",
              "    <tr>\n",
              "      <th>mean</th>\n",
              "      <td>3.845052</td>\n",
              "      <td>120.894531</td>\n",
              "      <td>69.105469</td>\n",
              "      <td>20.536458</td>\n",
              "      <td>79.799479</td>\n",
              "      <td>31.992578</td>\n",
              "      <td>0.471876</td>\n",
              "      <td>33.240885</td>\n",
              "      <td>0.348958</td>\n",
              "    </tr>\n",
              "    <tr>\n",
              "      <th>std</th>\n",
              "      <td>3.369578</td>\n",
              "      <td>31.972618</td>\n",
              "      <td>19.355807</td>\n",
              "      <td>15.952218</td>\n",
              "      <td>115.244002</td>\n",
              "      <td>7.884160</td>\n",
              "      <td>0.331329</td>\n",
              "      <td>11.760232</td>\n",
              "      <td>0.476951</td>\n",
              "    </tr>\n",
              "    <tr>\n",
              "      <th>min</th>\n",
              "      <td>0.000000</td>\n",
              "      <td>0.000000</td>\n",
              "      <td>0.000000</td>\n",
              "      <td>0.000000</td>\n",
              "      <td>0.000000</td>\n",
              "      <td>0.000000</td>\n",
              "      <td>0.078000</td>\n",
              "      <td>21.000000</td>\n",
              "      <td>0.000000</td>\n",
              "    </tr>\n",
              "    <tr>\n",
              "      <th>25%</th>\n",
              "      <td>1.000000</td>\n",
              "      <td>99.000000</td>\n",
              "      <td>62.000000</td>\n",
              "      <td>0.000000</td>\n",
              "      <td>0.000000</td>\n",
              "      <td>27.300000</td>\n",
              "      <td>0.243750</td>\n",
              "      <td>24.000000</td>\n",
              "      <td>0.000000</td>\n",
              "    </tr>\n",
              "    <tr>\n",
              "      <th>50%</th>\n",
              "      <td>3.000000</td>\n",
              "      <td>117.000000</td>\n",
              "      <td>72.000000</td>\n",
              "      <td>23.000000</td>\n",
              "      <td>30.500000</td>\n",
              "      <td>32.000000</td>\n",
              "      <td>0.372500</td>\n",
              "      <td>29.000000</td>\n",
              "      <td>0.000000</td>\n",
              "    </tr>\n",
              "    <tr>\n",
              "      <th>75%</th>\n",
              "      <td>6.000000</td>\n",
              "      <td>140.250000</td>\n",
              "      <td>80.000000</td>\n",
              "      <td>32.000000</td>\n",
              "      <td>127.250000</td>\n",
              "      <td>36.600000</td>\n",
              "      <td>0.626250</td>\n",
              "      <td>41.000000</td>\n",
              "      <td>1.000000</td>\n",
              "    </tr>\n",
              "    <tr>\n",
              "      <th>max</th>\n",
              "      <td>17.000000</td>\n",
              "      <td>199.000000</td>\n",
              "      <td>122.000000</td>\n",
              "      <td>99.000000</td>\n",
              "      <td>846.000000</td>\n",
              "      <td>67.100000</td>\n",
              "      <td>2.420000</td>\n",
              "      <td>81.000000</td>\n",
              "      <td>1.000000</td>\n",
              "    </tr>\n",
              "  </tbody>\n",
              "</table>\n",
              "</div>\n",
              "      <button class=\"colab-df-convert\" onclick=\"convertToInteractive('df-89603444-920e-4abf-8e95-0baa6bef6133')\"\n",
              "              title=\"Convert this dataframe to an interactive table.\"\n",
              "              style=\"display:none;\">\n",
              "        \n",
              "  <svg xmlns=\"http://www.w3.org/2000/svg\" height=\"24px\"viewBox=\"0 0 24 24\"\n",
              "       width=\"24px\">\n",
              "    <path d=\"M0 0h24v24H0V0z\" fill=\"none\"/>\n",
              "    <path d=\"M18.56 5.44l.94 2.06.94-2.06 2.06-.94-2.06-.94-.94-2.06-.94 2.06-2.06.94zm-11 1L8.5 8.5l.94-2.06 2.06-.94-2.06-.94L8.5 2.5l-.94 2.06-2.06.94zm10 10l.94 2.06.94-2.06 2.06-.94-2.06-.94-.94-2.06-.94 2.06-2.06.94z\"/><path d=\"M17.41 7.96l-1.37-1.37c-.4-.4-.92-.59-1.43-.59-.52 0-1.04.2-1.43.59L10.3 9.45l-7.72 7.72c-.78.78-.78 2.05 0 2.83L4 21.41c.39.39.9.59 1.41.59.51 0 1.02-.2 1.41-.59l7.78-7.78 2.81-2.81c.8-.78.8-2.07 0-2.86zM5.41 20L4 18.59l7.72-7.72 1.47 1.35L5.41 20z\"/>\n",
              "  </svg>\n",
              "      </button>\n",
              "      \n",
              "  <style>\n",
              "    .colab-df-container {\n",
              "      display:flex;\n",
              "      flex-wrap:wrap;\n",
              "      gap: 12px;\n",
              "    }\n",
              "\n",
              "    .colab-df-convert {\n",
              "      background-color: #E8F0FE;\n",
              "      border: none;\n",
              "      border-radius: 50%;\n",
              "      cursor: pointer;\n",
              "      display: none;\n",
              "      fill: #1967D2;\n",
              "      height: 32px;\n",
              "      padding: 0 0 0 0;\n",
              "      width: 32px;\n",
              "    }\n",
              "\n",
              "    .colab-df-convert:hover {\n",
              "      background-color: #E2EBFA;\n",
              "      box-shadow: 0px 1px 2px rgba(60, 64, 67, 0.3), 0px 1px 3px 1px rgba(60, 64, 67, 0.15);\n",
              "      fill: #174EA6;\n",
              "    }\n",
              "\n",
              "    [theme=dark] .colab-df-convert {\n",
              "      background-color: #3B4455;\n",
              "      fill: #D2E3FC;\n",
              "    }\n",
              "\n",
              "    [theme=dark] .colab-df-convert:hover {\n",
              "      background-color: #434B5C;\n",
              "      box-shadow: 0px 1px 3px 1px rgba(0, 0, 0, 0.15);\n",
              "      filter: drop-shadow(0px 1px 2px rgba(0, 0, 0, 0.3));\n",
              "      fill: #FFFFFF;\n",
              "    }\n",
              "  </style>\n",
              "\n",
              "      <script>\n",
              "        const buttonEl =\n",
              "          document.querySelector('#df-89603444-920e-4abf-8e95-0baa6bef6133 button.colab-df-convert');\n",
              "        buttonEl.style.display =\n",
              "          google.colab.kernel.accessAllowed ? 'block' : 'none';\n",
              "\n",
              "        async function convertToInteractive(key) {\n",
              "          const element = document.querySelector('#df-89603444-920e-4abf-8e95-0baa6bef6133');\n",
              "          const dataTable =\n",
              "            await google.colab.kernel.invokeFunction('convertToInteractive',\n",
              "                                                     [key], {});\n",
              "          if (!dataTable) return;\n",
              "\n",
              "          const docLinkHtml = 'Like what you see? Visit the ' +\n",
              "            '<a target=\"_blank\" href=https://colab.research.google.com/notebooks/data_table.ipynb>data table notebook</a>'\n",
              "            + ' to learn more about interactive tables.';\n",
              "          element.innerHTML = '';\n",
              "          dataTable['output_type'] = 'display_data';\n",
              "          await google.colab.output.renderOutput(dataTable, element);\n",
              "          const docLink = document.createElement('div');\n",
              "          docLink.innerHTML = docLinkHtml;\n",
              "          element.appendChild(docLink);\n",
              "        }\n",
              "      </script>\n",
              "    </div>\n",
              "  </div>\n",
              "  "
            ],
            "text/plain": [
              "       Pregnancies     Glucose  BloodPressure  SkinThickness     Insulin  \\\n",
              "count   768.000000  768.000000     768.000000     768.000000  768.000000   \n",
              "mean      3.845052  120.894531      69.105469      20.536458   79.799479   \n",
              "std       3.369578   31.972618      19.355807      15.952218  115.244002   \n",
              "min       0.000000    0.000000       0.000000       0.000000    0.000000   \n",
              "25%       1.000000   99.000000      62.000000       0.000000    0.000000   \n",
              "50%       3.000000  117.000000      72.000000      23.000000   30.500000   \n",
              "75%       6.000000  140.250000      80.000000      32.000000  127.250000   \n",
              "max      17.000000  199.000000     122.000000      99.000000  846.000000   \n",
              "\n",
              "              BMI  DiabetesPedigreeFunction         Age     Outcome  \n",
              "count  768.000000                768.000000  768.000000  768.000000  \n",
              "mean    31.992578                  0.471876   33.240885    0.348958  \n",
              "std      7.884160                  0.331329   11.760232    0.476951  \n",
              "min      0.000000                  0.078000   21.000000    0.000000  \n",
              "25%     27.300000                  0.243750   24.000000    0.000000  \n",
              "50%     32.000000                  0.372500   29.000000    0.000000  \n",
              "75%     36.600000                  0.626250   41.000000    1.000000  \n",
              "max     67.100000                  2.420000   81.000000    1.000000  "
            ]
          },
          "metadata": {},
          "execution_count": 5
        }
      ]
    },
    {
      "cell_type": "markdown",
      "source": [
        "Question 4: write a function that scale your features.\n",
        "`Hint:` $x'= \\dfrac{x-\\mu}{\\sigma}$ \n",
        "where $\\mu$ is the mean and $\\sigma$ the standard deviation of $x$."
      ],
      "metadata": {
        "id": "XLhl5xo2XpTi"
      }
    },
    {
      "cell_type": "code",
      "source": [
        "##### WRITE YOUR CODE HERE #####\n",
        "def Scale(data):\n",
        "  Mean=np.mean(data,axis=0)\n",
        "  Std=np.std(data,axis=0)\n",
        "  return (data-Mean)/Std\n",
        "#### END CODE ####"
      ],
      "metadata": {
        "id": "uHqEW65wXvNf"
      },
      "execution_count": 6,
      "outputs": []
    },
    {
      "cell_type": "markdown",
      "source": [
        "Question 5: Scale your features, except the target. "
      ],
      "metadata": {
        "id": "xHrdxls1Xx-6"
      }
    },
    {
      "cell_type": "code",
      "source": [
        "##### WRITE YOUR CODE HERE #####\n",
        "data.iloc[:,:-1]=Scale(data.iloc[:,:-1]) \n",
        "data\n",
        "#### END CODE #### "
      ],
      "metadata": {
        "id": "dF2xJum5YAkM",
        "colab": {
          "base_uri": "https://localhost:8080/",
          "height": 423
        },
        "outputId": "a1154d29-cd52-481f-fa26-075e6d0b8587"
      },
      "execution_count": 7,
      "outputs": [
        {
          "output_type": "execute_result",
          "data": {
            "text/html": [
              "\n",
              "  <div id=\"df-43b13000-10fe-48df-9908-701c010c4c0e\">\n",
              "    <div class=\"colab-df-container\">\n",
              "      <div>\n",
              "<style scoped>\n",
              "    .dataframe tbody tr th:only-of-type {\n",
              "        vertical-align: middle;\n",
              "    }\n",
              "\n",
              "    .dataframe tbody tr th {\n",
              "        vertical-align: top;\n",
              "    }\n",
              "\n",
              "    .dataframe thead th {\n",
              "        text-align: right;\n",
              "    }\n",
              "</style>\n",
              "<table border=\"1\" class=\"dataframe\">\n",
              "  <thead>\n",
              "    <tr style=\"text-align: right;\">\n",
              "      <th></th>\n",
              "      <th>Pregnancies</th>\n",
              "      <th>Glucose</th>\n",
              "      <th>BloodPressure</th>\n",
              "      <th>SkinThickness</th>\n",
              "      <th>Insulin</th>\n",
              "      <th>BMI</th>\n",
              "      <th>DiabetesPedigreeFunction</th>\n",
              "      <th>Age</th>\n",
              "      <th>Outcome</th>\n",
              "    </tr>\n",
              "  </thead>\n",
              "  <tbody>\n",
              "    <tr>\n",
              "      <th>0</th>\n",
              "      <td>0.639947</td>\n",
              "      <td>0.848324</td>\n",
              "      <td>0.149641</td>\n",
              "      <td>0.907270</td>\n",
              "      <td>-0.692891</td>\n",
              "      <td>0.204013</td>\n",
              "      <td>0.468492</td>\n",
              "      <td>1.425995</td>\n",
              "      <td>1</td>\n",
              "    </tr>\n",
              "    <tr>\n",
              "      <th>1</th>\n",
              "      <td>-0.844885</td>\n",
              "      <td>-1.123396</td>\n",
              "      <td>-0.160546</td>\n",
              "      <td>0.530902</td>\n",
              "      <td>-0.692891</td>\n",
              "      <td>-0.684422</td>\n",
              "      <td>-0.365061</td>\n",
              "      <td>-0.190672</td>\n",
              "      <td>0</td>\n",
              "    </tr>\n",
              "    <tr>\n",
              "      <th>2</th>\n",
              "      <td>1.233880</td>\n",
              "      <td>1.943724</td>\n",
              "      <td>-0.263941</td>\n",
              "      <td>-1.288212</td>\n",
              "      <td>-0.692891</td>\n",
              "      <td>-1.103255</td>\n",
              "      <td>0.604397</td>\n",
              "      <td>-0.105584</td>\n",
              "      <td>1</td>\n",
              "    </tr>\n",
              "    <tr>\n",
              "      <th>3</th>\n",
              "      <td>-0.844885</td>\n",
              "      <td>-0.998208</td>\n",
              "      <td>-0.160546</td>\n",
              "      <td>0.154533</td>\n",
              "      <td>0.123302</td>\n",
              "      <td>-0.494043</td>\n",
              "      <td>-0.920763</td>\n",
              "      <td>-1.041549</td>\n",
              "      <td>0</td>\n",
              "    </tr>\n",
              "    <tr>\n",
              "      <th>4</th>\n",
              "      <td>-1.141852</td>\n",
              "      <td>0.504055</td>\n",
              "      <td>-1.504687</td>\n",
              "      <td>0.907270</td>\n",
              "      <td>0.765836</td>\n",
              "      <td>1.409746</td>\n",
              "      <td>5.484909</td>\n",
              "      <td>-0.020496</td>\n",
              "      <td>1</td>\n",
              "    </tr>\n",
              "    <tr>\n",
              "      <th>...</th>\n",
              "      <td>...</td>\n",
              "      <td>...</td>\n",
              "      <td>...</td>\n",
              "      <td>...</td>\n",
              "      <td>...</td>\n",
              "      <td>...</td>\n",
              "      <td>...</td>\n",
              "      <td>...</td>\n",
              "      <td>...</td>\n",
              "    </tr>\n",
              "    <tr>\n",
              "      <th>763</th>\n",
              "      <td>1.827813</td>\n",
              "      <td>-0.622642</td>\n",
              "      <td>0.356432</td>\n",
              "      <td>1.722735</td>\n",
              "      <td>0.870031</td>\n",
              "      <td>0.115169</td>\n",
              "      <td>-0.908682</td>\n",
              "      <td>2.532136</td>\n",
              "      <td>0</td>\n",
              "    </tr>\n",
              "    <tr>\n",
              "      <th>764</th>\n",
              "      <td>-0.547919</td>\n",
              "      <td>0.034598</td>\n",
              "      <td>0.046245</td>\n",
              "      <td>0.405445</td>\n",
              "      <td>-0.692891</td>\n",
              "      <td>0.610154</td>\n",
              "      <td>-0.398282</td>\n",
              "      <td>-0.531023</td>\n",
              "      <td>0</td>\n",
              "    </tr>\n",
              "    <tr>\n",
              "      <th>765</th>\n",
              "      <td>0.342981</td>\n",
              "      <td>0.003301</td>\n",
              "      <td>0.149641</td>\n",
              "      <td>0.154533</td>\n",
              "      <td>0.279594</td>\n",
              "      <td>-0.735190</td>\n",
              "      <td>-0.685193</td>\n",
              "      <td>-0.275760</td>\n",
              "      <td>0</td>\n",
              "    </tr>\n",
              "    <tr>\n",
              "      <th>766</th>\n",
              "      <td>-0.844885</td>\n",
              "      <td>0.159787</td>\n",
              "      <td>-0.470732</td>\n",
              "      <td>-1.288212</td>\n",
              "      <td>-0.692891</td>\n",
              "      <td>-0.240205</td>\n",
              "      <td>-0.371101</td>\n",
              "      <td>1.170732</td>\n",
              "      <td>1</td>\n",
              "    </tr>\n",
              "    <tr>\n",
              "      <th>767</th>\n",
              "      <td>-0.844885</td>\n",
              "      <td>-0.873019</td>\n",
              "      <td>0.046245</td>\n",
              "      <td>0.656358</td>\n",
              "      <td>-0.692891</td>\n",
              "      <td>-0.202129</td>\n",
              "      <td>-0.473785</td>\n",
              "      <td>-0.871374</td>\n",
              "      <td>0</td>\n",
              "    </tr>\n",
              "  </tbody>\n",
              "</table>\n",
              "<p>768 rows × 9 columns</p>\n",
              "</div>\n",
              "      <button class=\"colab-df-convert\" onclick=\"convertToInteractive('df-43b13000-10fe-48df-9908-701c010c4c0e')\"\n",
              "              title=\"Convert this dataframe to an interactive table.\"\n",
              "              style=\"display:none;\">\n",
              "        \n",
              "  <svg xmlns=\"http://www.w3.org/2000/svg\" height=\"24px\"viewBox=\"0 0 24 24\"\n",
              "       width=\"24px\">\n",
              "    <path d=\"M0 0h24v24H0V0z\" fill=\"none\"/>\n",
              "    <path d=\"M18.56 5.44l.94 2.06.94-2.06 2.06-.94-2.06-.94-.94-2.06-.94 2.06-2.06.94zm-11 1L8.5 8.5l.94-2.06 2.06-.94-2.06-.94L8.5 2.5l-.94 2.06-2.06.94zm10 10l.94 2.06.94-2.06 2.06-.94-2.06-.94-.94-2.06-.94 2.06-2.06.94z\"/><path d=\"M17.41 7.96l-1.37-1.37c-.4-.4-.92-.59-1.43-.59-.52 0-1.04.2-1.43.59L10.3 9.45l-7.72 7.72c-.78.78-.78 2.05 0 2.83L4 21.41c.39.39.9.59 1.41.59.51 0 1.02-.2 1.41-.59l7.78-7.78 2.81-2.81c.8-.78.8-2.07 0-2.86zM5.41 20L4 18.59l7.72-7.72 1.47 1.35L5.41 20z\"/>\n",
              "  </svg>\n",
              "      </button>\n",
              "      \n",
              "  <style>\n",
              "    .colab-df-container {\n",
              "      display:flex;\n",
              "      flex-wrap:wrap;\n",
              "      gap: 12px;\n",
              "    }\n",
              "\n",
              "    .colab-df-convert {\n",
              "      background-color: #E8F0FE;\n",
              "      border: none;\n",
              "      border-radius: 50%;\n",
              "      cursor: pointer;\n",
              "      display: none;\n",
              "      fill: #1967D2;\n",
              "      height: 32px;\n",
              "      padding: 0 0 0 0;\n",
              "      width: 32px;\n",
              "    }\n",
              "\n",
              "    .colab-df-convert:hover {\n",
              "      background-color: #E2EBFA;\n",
              "      box-shadow: 0px 1px 2px rgba(60, 64, 67, 0.3), 0px 1px 3px 1px rgba(60, 64, 67, 0.15);\n",
              "      fill: #174EA6;\n",
              "    }\n",
              "\n",
              "    [theme=dark] .colab-df-convert {\n",
              "      background-color: #3B4455;\n",
              "      fill: #D2E3FC;\n",
              "    }\n",
              "\n",
              "    [theme=dark] .colab-df-convert:hover {\n",
              "      background-color: #434B5C;\n",
              "      box-shadow: 0px 1px 3px 1px rgba(0, 0, 0, 0.15);\n",
              "      filter: drop-shadow(0px 1px 2px rgba(0, 0, 0, 0.3));\n",
              "      fill: #FFFFFF;\n",
              "    }\n",
              "  </style>\n",
              "\n",
              "      <script>\n",
              "        const buttonEl =\n",
              "          document.querySelector('#df-43b13000-10fe-48df-9908-701c010c4c0e button.colab-df-convert');\n",
              "        buttonEl.style.display =\n",
              "          google.colab.kernel.accessAllowed ? 'block' : 'none';\n",
              "\n",
              "        async function convertToInteractive(key) {\n",
              "          const element = document.querySelector('#df-43b13000-10fe-48df-9908-701c010c4c0e');\n",
              "          const dataTable =\n",
              "            await google.colab.kernel.invokeFunction('convertToInteractive',\n",
              "                                                     [key], {});\n",
              "          if (!dataTable) return;\n",
              "\n",
              "          const docLinkHtml = 'Like what you see? Visit the ' +\n",
              "            '<a target=\"_blank\" href=https://colab.research.google.com/notebooks/data_table.ipynb>data table notebook</a>'\n",
              "            + ' to learn more about interactive tables.';\n",
              "          element.innerHTML = '';\n",
              "          dataTable['output_type'] = 'display_data';\n",
              "          await google.colab.output.renderOutput(dataTable, element);\n",
              "          const docLink = document.createElement('div');\n",
              "          docLink.innerHTML = docLinkHtml;\n",
              "          element.appendChild(docLink);\n",
              "        }\n",
              "      </script>\n",
              "    </div>\n",
              "  </div>\n",
              "  "
            ],
            "text/plain": [
              "     Pregnancies   Glucose  BloodPressure  SkinThickness   Insulin       BMI  \\\n",
              "0       0.639947  0.848324       0.149641       0.907270 -0.692891  0.204013   \n",
              "1      -0.844885 -1.123396      -0.160546       0.530902 -0.692891 -0.684422   \n",
              "2       1.233880  1.943724      -0.263941      -1.288212 -0.692891 -1.103255   \n",
              "3      -0.844885 -0.998208      -0.160546       0.154533  0.123302 -0.494043   \n",
              "4      -1.141852  0.504055      -1.504687       0.907270  0.765836  1.409746   \n",
              "..           ...       ...            ...            ...       ...       ...   \n",
              "763     1.827813 -0.622642       0.356432       1.722735  0.870031  0.115169   \n",
              "764    -0.547919  0.034598       0.046245       0.405445 -0.692891  0.610154   \n",
              "765     0.342981  0.003301       0.149641       0.154533  0.279594 -0.735190   \n",
              "766    -0.844885  0.159787      -0.470732      -1.288212 -0.692891 -0.240205   \n",
              "767    -0.844885 -0.873019       0.046245       0.656358 -0.692891 -0.202129   \n",
              "\n",
              "     DiabetesPedigreeFunction       Age  Outcome  \n",
              "0                    0.468492  1.425995        1  \n",
              "1                   -0.365061 -0.190672        0  \n",
              "2                    0.604397 -0.105584        1  \n",
              "3                   -0.920763 -1.041549        0  \n",
              "4                    5.484909 -0.020496        1  \n",
              "..                        ...       ...      ...  \n",
              "763                 -0.908682  2.532136        0  \n",
              "764                 -0.398282 -0.531023        0  \n",
              "765                 -0.685193 -0.275760        0  \n",
              "766                 -0.371101  1.170732        1  \n",
              "767                 -0.473785 -0.871374        0  \n",
              "\n",
              "[768 rows x 9 columns]"
            ]
          },
          "metadata": {},
          "execution_count": 7
        }
      ]
    },
    {
      "cell_type": "markdown",
      "source": [
        "Question 6: Write a function that split your (x,y) to (x_train, y_train) and (x_test, y_test).\n",
        "`Note:` This function must return an arrays."
      ],
      "metadata": {
        "id": "EaLTFVDPeeQp"
      }
    },
    {
      "cell_type": "code",
      "source": [
        "##### WRITE YOUR CODE HERE #####\n",
        "def train_test_split(data,num_percent):\n",
        "  np.random.seed(1)\n",
        "  m=len(data)\n",
        "  perm=np.random.permutation(data.index)\n",
        "  Indices=int(num_percent*m)\n",
        "  train=data.iloc[perm[:Indices]]\n",
        "  test=data.iloc[perm[Indices:]]\n",
        "  x_train=train.iloc[:,:-1]\n",
        "  y_train=train.iloc[:,-1]\n",
        "  x_test=test.iloc[:,:-1]\n",
        "  y_test=test.iloc[:,-1]\n",
        "  return x_train.values,y_train.values,x_test.values,y_test.values\n",
        "#### END CODE ####"
      ],
      "metadata": {
        "id": "TBUUkfU_Gz0J"
      },
      "execution_count": 8,
      "outputs": []
    },
    {
      "cell_type": "code",
      "source": [
        "x_train,y_train,x_test,y_test=train_test_split(data,0.8)\n",
        "print(x_train.shape,y_train.shape,x_test.shape,y_test.shape)"
      ],
      "metadata": {
        "colab": {
          "base_uri": "https://localhost:8080/"
        },
        "id": "IfaPvEHLIBRp",
        "outputId": "5dafdf42-f673-4031-8e83-aeadb0409ee4"
      },
      "execution_count": 9,
      "outputs": [
        {
          "output_type": "stream",
          "name": "stdout",
          "text": [
            "(614, 8) (614,) (154, 8) (154,)\n"
          ]
        }
      ]
    },
    {
      "cell_type": "markdown",
      "source": [
        "# Part 2: Logistic Regression without Regularization.\n",
        "\n",
        "## Recaps:\n",
        "1. Logistic/sigmoid function of $z$:\n",
        "\\begin{equation}\n",
        "g(z)= \\dfrac{1}{1+ exp(-z)}\n",
        "\\end{equation}\n",
        "where $z= x^t \\theta$ and $x, y \\in \\mathbb{R}^d$.\n",
        "2. Derivative of Logistic/sigmoid function with respective to $z$:\n",
        "\\begin{equation}\n",
        "dg(z)= g(z)(1-g(z))\n",
        "\\end{equation}\n",
        "3. Cross-entropy loss:\n",
        "\\begin{equation}\n",
        "l(\\theta)= -\\sum_{i= 1}^{N} \\left(y_{true} \\times \\log y_{pred} + (1-y_{true}) \\times \\log (1-y_{pred}) \\right)\n",
        "\\end{equation}\n",
        "where $y_{true}= g(z)$, $z= x^t \\theta$ and $y_{true}$ is the ground-truth for a given $x$.\n",
        "\n",
        "4. Derivative of Cross-entropy loss with respective to $\\theta$:\n",
        "\\begin{equation}\n",
        "dl(\\theta)= -\\sum_{i= 1}^{N} x^t\\left(y_{true} -y_{ped} \\right)\n",
        "\\end{equation}\n",
        "5. Apply Batch gradient descent to update $\\theta$.\n",
        "\n",
        "Question: Create a class called LogReg. See the description in the below cells.\n"
      ],
      "metadata": {
        "id": "-iHA8LO0dq05"
      }
    },
    {
      "cell_type": "code",
      "source": [
        "class logistic_regression:\n",
        "  def __init__(self,x_test,y_test, num_iters= 100, threshold= 0.5, tolerance= 1e-10, lr= 0.00001):\n",
        "    ##### WRITE YOUR CODE HERE #####\n",
        "    self.num_iters=num_iters\n",
        "    self.threshold=threshold\n",
        "    self.tolerance=tolerance\n",
        "    self.lr=lr\n",
        "    self.theta=None\n",
        "    self.cost_history=[]\n",
        "    self.cost_history_test=[]\n",
        "    self.x_test=x_test\n",
        "    self.y_test=y_test\n",
        "    #### END CODE ####\n",
        "\n",
        "  def add_ones(self, x):\n",
        "    ##### WRITE YOUR CODE HERE #####\n",
        "    x_new= np.hstack([np.ones((x.shape[0],1)),x])\n",
        "    return x_new\n",
        "    #### END CODE ####\n",
        "\n",
        "  def sigmoid(self, x, theta):\n",
        "    ##### WRITE YOUR CODE HERE #####\n",
        "    # x=self.add_ones(x)\n",
        "    # theta=np.zeros(x.shape[1])\n",
        "    z= x@theta\n",
        "    y_pred= 1/(1+np.exp(-z))\n",
        "    return y_pred\n",
        "    #### END CODE ####\n",
        "\n",
        "  def cross_entropy(self, x, y_true):\n",
        "    ##### WRITE YOUR CODE HERE #####\n",
        "    n = x.shape[0] # Length of x\n",
        "    # x_new=self.add_ones(x)\n",
        "    y_pred = self.sigmoid(x,self.theta)\n",
        "    Cost = -np.sum(y_true*np.log(y_pred)+(1-y_true)*np.log(1-y_pred))\n",
        "        \n",
        "    return Cost/n\n",
        "    #### END CODE ####\n",
        "\n",
        "  def fit(self, x,y):\n",
        "    ##### WRITE YOUR CODE HERE #####\n",
        "    x= self.add_ones(x) # Add ones to x\n",
        "    y= y.reshape(-1,1) # reshape y. This is optional, do it if needed\n",
        "    self.theta= np.zeros((x.shape[1],1)) # Initialize theta to zeros vector >>> (x.shape[1])\n",
        "    current_iter= 1\n",
        "    norm= 1\n",
        "\n",
        "    while (norm >= self.tolerance and current_iter < self.num_iters):\n",
        "      theta_old = self.theta.copy() # Get old theta\n",
        "\n",
        "      # make predictions\n",
        "      y_pred= self.sigmoid(x,self.theta) # using sigmoid function \n",
        "\n",
        "      # Gradient of cross-entropy\n",
        "      grad= -x.T@(y.reshape(-1,1)-y_pred.reshape(-1,1))\n",
        "      grad= grad.reshape(-1,1) # Reshape, if it is needed\n",
        "\n",
        "      # update rules\n",
        "      self.theta= self.theta-(self.lr*grad)\n",
        "      # Compute the training loss\n",
        "      self.cost_history.append(self.cross_entropy(x,y.reshape(-1,1)))\n",
        "      self.cost_history_test.append(self.cross_entropy(self.add_ones(x_test),y_test.reshape(-1,1)))\n",
        "\n",
        "      # Convergence criteria:\n",
        "      if current_iter%100 == 0:\n",
        "        print(f'cost for {current_iter} iteration : {self.cross_entropy(x, y.reshape(-1,1))}')\n",
        "      norm = np.linalg.norm(theta_old - self.theta)\n",
        "      current_iter += 1\n",
        "    #### END CODE ####\n",
        "  \n",
        "  def predict_proba(self, x):\n",
        "    x= self.add_ones(x) # Apply add ones to x\n",
        "    y_pred_prob= self.sigmoid(x,self.theta) # Predict proba with sigmoid\n",
        "    return y_pred_prob\n",
        "  def predict(self, x):\n",
        "    # x=self.add_ones(x)\n",
        "    proba= self.predict_proba(x) # Get probability of x\n",
        "    result= [1 if proba > self.threshold else 0  for proba in proba]  # Convert proba to 0 or 1. hint: list comprehension\n",
        "    return  result\n",
        "  \n",
        "    \n",
        "  \n",
        "  \n",
        "  def plot(self):\n",
        "    ##### WRITE YOUR CODE HERE #####\n",
        "    plt.xlabel('Epoch')\n",
        "    plt.ylabel('Cost')\n",
        "    plt.plot(np.arange(len(self.cost_history)),self.cost_history,'r',linewidth='2',label='Train_loss')\n",
        "    plt.plot(np.arange(len(self.cost_history_test)),self.cost_history_test,'b',linewidth='2',label='validation_loss')\n",
        "    plt.legend()\n",
        "    plt.show()\n",
        "    #### END CODE ####"
      ],
      "metadata": {
        "id": "fcwOt19ygOVu"
      },
      "execution_count": 12,
      "outputs": []
    },
    {
      "cell_type": "code",
      "source": [
        "# Create a model by instanciating the class logistic_regression\n",
        "model = logistic_regression(x_test,y_test,num_iters=10000)"
      ],
      "metadata": {
        "id": "PyAKBcDvgOYg"
      },
      "execution_count": 13,
      "outputs": []
    },
    {
      "cell_type": "code",
      "source": [
        "%%time\n",
        "model.fit(x_train, y_train)"
      ],
      "metadata": {
        "colab": {
          "base_uri": "https://localhost:8080/"
        },
        "id": "NdezNg1egOb9",
        "outputId": "36a36da9-bbc6-4e89-ba99-f19c93422397"
      },
      "execution_count": 14,
      "outputs": [
        {
          "output_type": "stream",
          "name": "stdout",
          "text": [
            "cost for 100 iteration : 0.6300736350121298\n",
            "cost for 200 iteration : 0.590476592620127\n",
            "cost for 300 iteration : 0.5640295505392855\n",
            "cost for 400 iteration : 0.5453674667810404\n",
            "cost for 500 iteration : 0.5316075447013153\n",
            "cost for 600 iteration : 0.5211086882440066\n",
            "cost for 700 iteration : 0.512881210376232\n",
            "cost for 800 iteration : 0.5062966833571747\n",
            "cost for 900 iteration : 0.5009378563627476\n",
            "cost for 1000 iteration : 0.49651690122583736\n",
            "cost for 1100 iteration : 0.4928286965225258\n",
            "cost for 1200 iteration : 0.48972295719583886\n",
            "cost for 1300 iteration : 0.48708695197375973\n",
            "cost for 1400 iteration : 0.4848344081982395\n",
            "cost for 1500 iteration : 0.48289816360184556\n",
            "cost for 1600 iteration : 0.48122516168195456\n",
            "cost for 1700 iteration : 0.4797729567281936\n",
            "cost for 1800 iteration : 0.4785072178097646\n",
            "cost for 1900 iteration : 0.4773999102191097\n",
            "cost for 2000 iteration : 0.4764279467391001\n",
            "cost for 2100 iteration : 0.4755721714353812\n",
            "cost for 2200 iteration : 0.47481658317777314\n",
            "cost for 2300 iteration : 0.4741477348927957\n",
            "cost for 2400 iteration : 0.4735542635816066\n",
            "cost for 2500 iteration : 0.47302651896588704\n",
            "cost for 2600 iteration : 0.4725562674312784\n",
            "cost for 2700 iteration : 0.47213645408876415\n",
            "cost for 2800 iteration : 0.47176101013878197\n",
            "cost for 2900 iteration : 0.4714246958654312\n",
            "cost for 3000 iteration : 0.47112297188170266\n",
            "cost for 3100 iteration : 0.47085189294144947\n",
            "cost for 3200 iteration : 0.47060801990045303\n",
            "cost for 3300 iteration : 0.4703883463654663\n",
            "cost for 3400 iteration : 0.470190237299362\n",
            "cost for 3500 iteration : 0.47001137741135207\n",
            "cost for 3600 iteration : 0.4698497275960202\n",
            "cost for 3700 iteration : 0.4697034880244628\n",
            "cost for 3800 iteration : 0.469571066757818\n",
            "cost for 3900 iteration : 0.4694510529647251\n",
            "cost for 4000 iteration : 0.4693421939924045\n",
            "cost for 4100 iteration : 0.46924337567561974\n",
            "cost for 4200 iteration : 0.46915360537603623\n",
            "cost for 4300 iteration : 0.46907199733200217\n",
            "cost for 4400 iteration : 0.4689977599698332\n",
            "cost for 4500 iteration : 0.46893018488564236\n",
            "cost for 4600 iteration : 0.46886863725422084\n",
            "cost for 4700 iteration : 0.46881254746050194\n",
            "cost for 4800 iteration : 0.4687614037813467\n",
            "cost for 4900 iteration : 0.4687147459720713\n",
            "cost for 5000 iteration : 0.46867215963430836\n",
            "cost for 5100 iteration : 0.468633271260285\n",
            "cost for 5200 iteration : 0.4685977438640756\n",
            "cost for 5300 iteration : 0.4685652731233666\n",
            "cost for 5400 iteration : 0.46853558396620243\n",
            "cost for 5500 iteration : 0.4685084275464032\n",
            "cost for 5600 iteration : 0.4684835785591598\n",
            "cost for 5700 iteration : 0.46846083285493606\n",
            "cost for 5800 iteration : 0.46844000531544866\n",
            "cost for 5900 iteration : 0.4684209279603128\n",
            "cost for 6000 iteration : 0.4684034482570521\n",
            "cost for 6100 iteration : 0.4683874276107028\n",
            "cost for 6200 iteration : 0.4683727400122733\n",
            "cost for 6300 iteration : 0.4683592708279316\n",
            "cost for 6400 iteration : 0.4683469157130442\n",
            "cost for 6500 iteration : 0.46833557963714173\n",
            "cost for 6600 iteration : 0.4683251760075729\n",
            "cost for 6700 iteration : 0.4683156258810728\n",
            "cost for 6800 iteration : 0.46830685725375126\n",
            "cost for 6900 iteration : 0.4682988044211148\n",
            "cost for 7000 iteration : 0.4682914074007067\n",
            "cost for 7100 iteration : 0.46828461141079797\n",
            "cost for 7200 iteration : 0.46827836639930737\n",
            "cost for 7300 iteration : 0.4682726266177792\n",
            "cost for 7400 iteration : 0.4682673502358189\n",
            "cost for 7500 iteration : 0.46826249899189637\n",
            "cost for 7600 iteration : 0.4682580378768665\n",
            "cost for 7700 iteration : 0.46825393484695155\n",
            "cost for 7800 iteration : 0.4682501605632769\n",
            "cost for 7900 iteration : 0.4682466881553584\n",
            "cost for 8000 iteration : 0.4682434930062125\n",
            "cost for 8100 iteration : 0.4682405525570002\n",
            "cost for 8200 iteration : 0.4682378461293352\n",
            "cost for 8300 iteration : 0.46823535476357087\n",
            "cost for 8400 iteration : 0.46823306107155765\n",
            "cost for 8500 iteration : 0.4682309491025081\n",
            "cost for 8600 iteration : 0.46822900422074903\n",
            "cost for 8700 iteration : 0.46822721299425424\n",
            "cost for 8800 iteration : 0.46822556309296376\n",
            "cost for 8900 iteration : 0.46822404319599303\n",
            "cost for 9000 iteration : 0.46822264290691906\n",
            "cost for 9100 iteration : 0.4682213526764111\n",
            "cost for 9200 iteration : 0.4682201637315431\n",
            "cost for 9300 iteration : 0.46821906801118784\n",
            "cost for 9400 iteration : 0.4682180581069466\n",
            "cost for 9500 iteration : 0.46821712720912667\n",
            "cost for 9600 iteration : 0.46821626905731434\n",
            "cost for 9700 iteration : 0.4682154778951419\n",
            "cost for 9800 iteration : 0.468214748428879\n",
            "cost for 9900 iteration : 0.4682140757895138\n",
            "CPU times: user 4.42 s, sys: 58.3 ms, total: 4.48 s\n",
            "Wall time: 6.88 s\n"
          ]
        }
      ]
    },
    {
      "cell_type": "code",
      "source": [
        "pred= model.predict(x_test)"
      ],
      "metadata": {
        "id": "OvI1XF0Wju9H"
      },
      "execution_count": 15,
      "outputs": []
    },
    {
      "cell_type": "code",
      "source": [
        "# Predict Proba\n",
        "model.predict_proba(x_test)"
      ],
      "metadata": {
        "id": "8PozH_SWVTI5",
        "colab": {
          "base_uri": "https://localhost:8080/"
        },
        "outputId": "777d29b8-358f-4927-8677-175c6c3442e3"
      },
      "execution_count": 16,
      "outputs": [
        {
          "output_type": "execute_result",
          "data": {
            "text/plain": [
              "array([[0.7373873 ],\n",
              "       [0.17368319],\n",
              "       [0.04583055],\n",
              "       [0.13707056],\n",
              "       [0.13230685],\n",
              "       [0.6499096 ],\n",
              "       [0.48531889],\n",
              "       [0.52517722],\n",
              "       [0.73669073],\n",
              "       [0.04656634],\n",
              "       [0.65009502],\n",
              "       [0.04235583],\n",
              "       [0.05699694],\n",
              "       [0.1128538 ],\n",
              "       [0.43179308],\n",
              "       [0.25969756],\n",
              "       [0.29574927],\n",
              "       [0.39220418],\n",
              "       [0.16702759],\n",
              "       [0.36795153],\n",
              "       [0.16813779],\n",
              "       [0.18408077],\n",
              "       [0.12935173],\n",
              "       [0.89324561],\n",
              "       [0.3042817 ],\n",
              "       [0.64007069],\n",
              "       [0.77199163],\n",
              "       [0.67250698],\n",
              "       [0.0928238 ],\n",
              "       [0.15330978],\n",
              "       [0.6344555 ],\n",
              "       [0.73871125],\n",
              "       [0.11740601],\n",
              "       [0.90114955],\n",
              "       [0.16400436],\n",
              "       [0.85020846],\n",
              "       [0.96234078],\n",
              "       [0.17777603],\n",
              "       [0.11167833],\n",
              "       [0.15875338],\n",
              "       [0.81883102],\n",
              "       [0.20519168],\n",
              "       [0.26294529],\n",
              "       [0.47242628],\n",
              "       [0.08592288],\n",
              "       [0.04822078],\n",
              "       [0.19695831],\n",
              "       [0.2018759 ],\n",
              "       [0.62086551],\n",
              "       [0.18194484],\n",
              "       [0.22330247],\n",
              "       [0.75911553],\n",
              "       [0.94104025],\n",
              "       [0.00175605],\n",
              "       [0.22626187],\n",
              "       [0.52651691],\n",
              "       [0.04853365],\n",
              "       [0.34348732],\n",
              "       [0.06691127],\n",
              "       [0.20843317],\n",
              "       [0.84236186],\n",
              "       [0.09426273],\n",
              "       [0.01974532],\n",
              "       [0.08806427],\n",
              "       [0.25833836],\n",
              "       [0.17023409],\n",
              "       [0.13109243],\n",
              "       [0.09422345],\n",
              "       [0.07866785],\n",
              "       [0.65628989],\n",
              "       [0.05062479],\n",
              "       [0.35855737],\n",
              "       [0.1982335 ],\n",
              "       [0.47724366],\n",
              "       [0.33794521],\n",
              "       [0.02401332],\n",
              "       [0.05237614],\n",
              "       [0.44342656],\n",
              "       [0.46838383],\n",
              "       [0.70064608],\n",
              "       [0.26680305],\n",
              "       [0.89846916],\n",
              "       [0.35148062],\n",
              "       [0.03835704],\n",
              "       [0.09084708],\n",
              "       [0.47021674],\n",
              "       [0.95071894],\n",
              "       [0.18268581],\n",
              "       [0.14735172],\n",
              "       [0.38383088],\n",
              "       [0.29519977],\n",
              "       [0.03796028],\n",
              "       [0.41215391],\n",
              "       [0.06617791],\n",
              "       [0.35600394],\n",
              "       [0.31487966],\n",
              "       [0.03030694],\n",
              "       [0.15720222],\n",
              "       [0.12175793],\n",
              "       [0.50089585],\n",
              "       [0.76195196],\n",
              "       [0.83830798],\n",
              "       [0.93191197],\n",
              "       [0.05843544],\n",
              "       [0.55672928],\n",
              "       [0.18278557],\n",
              "       [0.88570319],\n",
              "       [0.21378506],\n",
              "       [0.47604198],\n",
              "       [0.33876214],\n",
              "       [0.37386165],\n",
              "       [0.42157694],\n",
              "       [0.11251493],\n",
              "       [0.10006847],\n",
              "       [0.26665587],\n",
              "       [0.19155817],\n",
              "       [0.42508203],\n",
              "       [0.32210614],\n",
              "       [0.88700455],\n",
              "       [0.03757724],\n",
              "       [0.07387516],\n",
              "       [0.20692377],\n",
              "       [0.11386221],\n",
              "       [0.79257754],\n",
              "       [0.56896559],\n",
              "       [0.1203603 ],\n",
              "       [0.34510222],\n",
              "       [0.49483252],\n",
              "       [0.25548025],\n",
              "       [0.25772969],\n",
              "       [0.87107964],\n",
              "       [0.61054043],\n",
              "       [0.11450538],\n",
              "       [0.02995032],\n",
              "       [0.21764867],\n",
              "       [0.12482095],\n",
              "       [0.03632585],\n",
              "       [0.47790151],\n",
              "       [0.88598186],\n",
              "       [0.22362208],\n",
              "       [0.16407058],\n",
              "       [0.79445098],\n",
              "       [0.55349235],\n",
              "       [0.12037767],\n",
              "       [0.09911976],\n",
              "       [0.57591238],\n",
              "       [0.3633644 ],\n",
              "       [0.16756603],\n",
              "       [0.44846751],\n",
              "       [0.50183922],\n",
              "       [0.87236584],\n",
              "       [0.81883591],\n",
              "       [0.88853556],\n",
              "       [0.36053393]])"
            ]
          },
          "metadata": {},
          "execution_count": 16
        }
      ]
    },
    {
      "cell_type": "code",
      "source": [
        "model.plot()"
      ],
      "metadata": {
        "colab": {
          "base_uri": "https://localhost:8080/",
          "height": 280
        },
        "id": "iKjM9LqgLFxp",
        "outputId": "0232206b-3c4d-47c8-fe06-03eeec6c53f1"
      },
      "execution_count": 17,
      "outputs": [
        {
          "output_type": "display_data",
          "data": {
            "image/png": "[encoded data removed]",
            "text/plain": [
              "<Figure size 432x288 with 1 Axes>"
            ]
          },
          "metadata": {
            "needs_background": "light"
          }
        }
      ]
    },
    {
      "cell_type": "markdown",
      "source": [
        "## Push your works to Githup Repo\n",
        "\n",
        "Setps:\n",
        "1. Fork the repo: `https://github.com/AMMI-2022/test-live-coding`\n",
        "2. Clone in your colab;\n",
        "3. Push\n",
        "4. Make a pull request"
      ],
      "metadata": {
        "id": "7pyf_N6pOCK5"
      }
    },
    {
      "cell_type": "markdown",
      "source": [
        "Set your credential"
      ],
      "metadata": {
        "id": "2S-a49qmeUGp"
      }
    },
    {
      "cell_type": "code",
      "source": [
        "my_token= \"\"\n",
        "my_repository= \"\"\n",
        "username= \"\"\n",
        "useremail= \"\""
      ],
      "metadata": {
        "id": "ECo9DTv9PfNU"
      },
      "execution_count": 16,
      "outputs": []
    },
    {
      "cell_type": "markdown",
      "source": [
        "Clone the repo"
      ],
      "metadata": {
        "id": "pTUr6f9JeWiG"
      }
    },
    {
      "cell_type": "code",
      "source": [
        "! git clone https://github.com/{username}/{my_repository}.git"
      ],
      "metadata": {
        "id": "EQhDd_U_PfRm",
        "colab": {
          "base_uri": "https://localhost:8080/"
        },
        "outputId": "ae916ba7-e71b-4a04-fd9d-befc55a6bdda"
      },
      "execution_count": 17,
      "outputs": [
        {
          "output_type": "stream",
          "name": "stdout",
          "text": [
            "Cloning into 'github.com'...\n",
            "fatal: could not read Username for 'https://github.com': No such device or address\n"
          ]
        }
      ]
    },
    {
      "cell_type": "code",
      "source": [
        "! git remote -v"
      ],
      "metadata": {
        "id": "Uv69w1Bfe0i3",
        "colab": {
          "base_uri": "https://localhost:8080/"
        },
        "outputId": "f2317575-0e3d-4ffb-e3d5-2c22d5ec74f2"
      },
      "execution_count": 18,
      "outputs": [
        {
          "output_type": "stream",
          "name": "stdout",
          "text": [
            "fatal: not a git repository (or any of the parent directories): .git\n"
          ]
        }
      ]
    },
    {
      "cell_type": "markdown",
      "source": [
        "Copy data to test-live-coding folder"
      ],
      "metadata": {
        "id": "Kse_ZT1henjR"
      }
    },
    {
      "cell_type": "code",
      "source": [
        "!cp diabetes.csv /content/test-live-coding"
      ],
      "metadata": {
        "id": "AS207mQ3PfTp"
      },
      "execution_count": 19,
      "outputs": []
    },
    {
      "cell_type": "code",
      "source": [
        "%cd /content/test-live-coding"
      ],
      "metadata": {
        "id": "ua0-f8gFPfXu",
        "colab": {
          "base_uri": "https://localhost:8080/"
        },
        "outputId": "0a2dd8ea-3fb3-4e12-9413-6ffaf5f25943"
      },
      "execution_count": 20,
      "outputs": [
        {
          "output_type": "stream",
          "name": "stdout",
          "text": [
            "[Errno 20] Not a directory: '/content/test-live-coding'\n",
            "/content\n"
          ]
        }
      ]
    },
    {
      "cell_type": "code",
      "source": [
        "!git status"
      ],
      "metadata": {
        "id": "S0SNgpwZPfsk",
        "colab": {
          "base_uri": "https://localhost:8080/"
        },
        "outputId": "127a3159-630a-4a57-ee18-89fe766399a7"
      },
      "execution_count": 21,
      "outputs": [
        {
          "output_type": "stream",
          "name": "stdout",
          "text": [
            "fatal: not a git repository (or any of the parent directories): .git\n"
          ]
        }
      ]
    },
    {
      "cell_type": "code",
      "source": [
        "!git config user.email useremail\n",
        "!git config user.name username"
      ],
      "metadata": {
        "id": "331HWnMJeuSN",
        "colab": {
          "base_uri": "https://localhost:8080/"
        },
        "outputId": "ab5aa9a4-4ddf-4405-bdbd-d0942a2dd6d4"
      },
      "execution_count": 22,
      "outputs": [
        {
          "output_type": "stream",
          "name": "stdout",
          "text": [
            "fatal: not in a git directory\n",
            "fatal: not in a git directory\n"
          ]
        }
      ]
    },
    {
      "cell_type": "code",
      "source": [
        "!git add .\n",
        "!git commit -m \"Add my files\""
      ],
      "metadata": {
        "id": "XIkRAG99fUGf",
        "colab": {
          "base_uri": "https://localhost:8080/"
        },
        "outputId": "6b063e3c-3744-460d-91bc-196446c821a4"
      },
      "execution_count": 23,
      "outputs": [
        {
          "output_type": "stream",
          "name": "stdout",
          "text": [
            "fatal: not a git repository (or any of the parent directories): .git\n",
            "fatal: not a git repository (or any of the parent directories): .git\n"
          ]
        }
      ]
    },
    {
      "cell_type": "code",
      "source": [
        "!git status"
      ],
      "metadata": {
        "id": "kK8TdaCifXJ-",
        "colab": {
          "base_uri": "https://localhost:8080/"
        },
        "outputId": "ebe7cd79-5b58-4d08-fae1-8a96f03aa8d6"
      },
      "execution_count": 24,
      "outputs": [
        {
          "output_type": "stream",
          "name": "stdout",
          "text": [
            "fatal: not a git repository (or any of the parent directories): .git\n"
          ]
        }
      ]
    },
    {
      "cell_type": "code",
      "source": [
        "!git push -u origin master --force"
      ],
      "metadata": {
        "id": "gObs-0HjeuV8",
        "colab": {
          "base_uri": "https://localhost:8080/"
        },
        "outputId": "dab65816-5361-4109-d6b2-0b611168ff6b"
      },
      "execution_count": 25,
      "outputs": [
        {
          "output_type": "stream",
          "name": "stdout",
          "text": [
            "fatal: not a git repository (or any of the parent directories): .git\n"
          ]
        }
      ]
    },
    {
      "cell_type": "markdown",
      "source": [
        "# If you cannot push, use:"
      ],
      "metadata": {
        "id": "niOB3_vIe5n7"
      }
    },
    {
      "cell_type": "code",
      "source": [
        "!git remote rm origin"
      ],
      "metadata": {
        "id": "XCRZgbm8e_1f",
        "colab": {
          "base_uri": "https://localhost:8080/"
        },
        "outputId": "8eba98f6-8091-4ea0-d832-e6d5328619da"
      },
      "execution_count": 26,
      "outputs": [
        {
          "output_type": "stream",
          "name": "stdout",
          "text": [
            "fatal: not a git repository (or any of the parent directories): .git\n"
          ]
        }
      ]
    },
    {
      "cell_type": "code",
      "source": [
        "!git remote add origin https://{my_token}@github.com/{username}/{my_repository}.git\n",
        "!git remote -v"
      ],
      "metadata": {
        "id": "61psHyK3fCRM",
        "colab": {
          "base_uri": "https://localhost:8080/"
        },
        "outputId": "1e3c0daf-5b49-49c7-bb27-77653ca93bcd"
      },
      "execution_count": 27,
      "outputs": [
        {
          "output_type": "stream",
          "name": "stdout",
          "text": [
            "fatal: not a git repository (or any of the parent directories): .git\n",
            "fatal: not a git repository (or any of the parent directories): .git\n"
          ]
        }
      ]
    },
    {
      "cell_type": "code",
      "source": [
        "!git push -u origin master --force"
      ],
      "metadata": {
        "id": "c0sQOc7ffCYP",
        "colab": {
          "base_uri": "https://localhost:8080/"
        },
        "outputId": "952614bc-252d-4881-c0b0-e69ebd053ba5"
      },
      "execution_count": 28,
      "outputs": [
        {
          "output_type": "stream",
          "name": "stdout",
          "text": [
            "fatal: not a git repository (or any of the parent directories): .git\n"
          ]
        }
      ]
    },
    {
      "cell_type": "markdown",
      "source": [
        "---\n",
        "\n",
        "\n",
        "\n",
        "---\n",
        "\n",
        "\n",
        "\n",
        "---"
      ],
      "metadata": {
        "id": "C0hWgk1XMjl-"
      }
    },
    {
      "cell_type": "markdown",
      "source": [
        "# Assignment\n",
        "\n",
        "Just follow the class logistic_regression, try to implement Logistic regression with `l1`, `l2` and `l1-l2`. That we call respectively `Lasso (least absolute shrinkage and selection operator)`, `Ridge` and `ElasticNet`.\n",
        "Given cross-entropy:\n",
        "\\begin{equation}\n",
        "  l(θ)= -\\sum_{i= 1}^{N} \\left(y_{true} \\times \\log y_{pred} + (1-y_{true}) \\times \\log (1-y_{pred}) \\right)\n",
        "\\end{equation}\n",
        "\n",
        "1. l1-regularization (LASSO):\n",
        "\n",
        "\\begin{equation}\n",
        "   l(θ) + λ\\| \\theta\\|_1\n",
        "\\end{equation}\n",
        "\n",
        "\n",
        "2. l2-regularization (Ridge):\n",
        "\\begin{equation}\n",
        "   l(θ)+ λ\\| \\theta\\|_2\n",
        "\\end{equation}\n",
        "\n",
        "3. l1-l2-regularization (ElasticNet):\n",
        "\\begin{equation}\n",
        "  l(θ) + λ_1\\| \\theta\\|_1 + λ_2\\| \\theta\\|_2\n",
        "\\end{equation}\n",
        "\n",
        "`Note: please use mini-batch as learning algorithm`"
      ],
      "metadata": {
        "id": "9WIvYaFRTEOo"
      }
    },
    {
      "cell_type": "code",
      "source": [
        "class logistic_regression_l1_l2_l12:\n",
        "  def __init__(self,x_test,y_test,batch_size,lambda1,lambda2, num_iters= 1000, threshold= 0.5, tolerance= 1e-10, lr= 0.00001):\n",
        "    ##### WRITE YOUR CODE HERE #####\n",
        "    self.num_iters=num_iters\n",
        "    self.threshold=threshold\n",
        "    self.tolerance=tolerance\n",
        "    self.batch_size=batch_size\n",
        "    self.lambda1=lambda1\n",
        "    self.lambda2=lambda2\n",
        "    self.lr=lr\n",
        "    self.theta=None\n",
        "    self.cost_history=[]\n",
        "    self.cost_history_test=[]\n",
        "    self.x_test=x_test\n",
        "    self.y_test=y_test\n",
        "    #### END CODE ####\n",
        "\n",
        "  def add_ones(self, x):\n",
        "    ##### WRITE YOUR CODE HERE #####\n",
        "    x_new= np.hstack([np.ones((x.shape[0],1)),x])\n",
        "    return x_new\n",
        "    #### END CODE ####\n",
        "\n",
        "  def sigmoid(self, x, theta):\n",
        "    ##### WRITE YOUR CODE HERE #####\n",
        "    # x=self.add_ones(x)\n",
        "    # theta=np.zeros(x.shape[1])\n",
        "    z= x@theta\n",
        "    y_pred= 1/(1+np.exp(-z))\n",
        "    return y_pred\n",
        "    #### END CODE ####\n",
        "    #### END CODE ####\n",
        "  def Function(self,w):\n",
        "    val=[]\n",
        "    for i in w:\n",
        "      if i<0:\n",
        "        val.append(-1)\n",
        "      else:\n",
        "        val.append(1)\n",
        "    return np.array(val).reshape(-1,1)\n",
        "  def cross_entropy(self, x, y_true):\n",
        "    ##### WRITE YOUR CODE HERE #####\n",
        "    n = x.shape[0] # Length of x\n",
        "    # x_new=self.add_ones(x)\n",
        "    y_pred = self.sigmoid(x,self.theta)\n",
        "    Cost = - np.sum(y_true * np.log(y_pred) + (1 - y_true)* np.log(1 - y_pred))/n \n",
        "        \n",
        "    return Cost\n",
        "    #### END CODE ####\n",
        "\n",
        "  def fit(self, x,y):\n",
        "    ##### WRITE YOUR CODE HERE #####\n",
        "    x= self.add_ones(x) # Add ones to x\n",
        "    y= y.reshape(-1,1) # reshape y. This is optional, do it if needed\n",
        "    self.theta= np.zeros((x.shape[1],1)) # Initialize theta to zeros vector >>> (x.shape[1])\n",
        "    m = len(y)\n",
        "    loss_ = []\n",
        "    # cost_history= np.zeros(self.epoch)\n",
        "    cost_history_ = []\n",
        "    current_iter= 1\n",
        "    norm= 1\n",
        "\n",
        "    while (norm >= self.tolerance and current_iter < self.num_iters):\n",
        "      theta_old = self.theta.copy() # Get old theta\n",
        "      # Gradient of cross-entropy\n",
        "      index = np.random.permutation(m)\n",
        "      xind = x[index]\n",
        "      yind = y[index]\n",
        "      for j in range(0,m,self.batch_size):\n",
        "        x_ = xind[j:j+self.batch_size]\n",
        "        y_ = yind[j:j+self.batch_size].reshape(-1,1)\n",
        "\n",
        "        # make predictions\n",
        "        y_pred= self.sigmoid(x_,self.theta) # using sigmoid function \n",
        "        grad= - x_.T @ (y_ - y_pred)+2*self.lambda2*self.theta +self.lambda1*self.Function(self.theta)\n",
        "        grad= grad.reshape(-1,1) # Reshape, if it is needed\n",
        "        \n",
        "        self.theta= self.theta- self.lr* grad\n",
        "        loss_.append(self.cross_entropy(x_,y_))\n",
        "      # Compute the training loss\n",
        "      self.cost_history.append(np.mean(loss_))\n",
        "      self.cost_history_test.append(self.cross_entropy(self.add_ones(x_test),y_test.reshape(-1,1)))\n",
        "\n",
        "      # Convergence criteria:\n",
        "      if current_iter%100 == 0:\n",
        "        print(f'cost for {current_iter} iteration : {self.cross_entropy(x_, y_)}')\n",
        "      norm = np.linalg.norm(theta_old - self.theta)\n",
        "      current_iter += 1\n",
        "    #### END CODE ####\n",
        "  \n",
        "  def predict_proba(self, x):\n",
        "    x= self.add_ones(x) # Apply add ones to x\n",
        "    y_pred_prob= self.sigmoid(x,self.theta) # Predict proba with sigmoid\n",
        "    return y_pred_prob\n",
        "  def predict(self, x):\n",
        "    # x=self.add_ones(x)\n",
        "    proba= self.predict_proba(x) # Get probability of x\n",
        "    result= [1 if proba > self.threshold else 0  for proba in proba]  # Convert proba to 0 or 1. hint: list comprehension\n",
        "    return  result\n",
        "  \n",
        "    \n",
        "  \n",
        "  \n",
        "  def plot(self):\n",
        "    ##### WRITE YOUR CODE HERE #####\n",
        "    plt.xlabel('Epoch')\n",
        "    plt.ylabel('Cost')\n",
        "    plt.plot(np.arange(len(self.cost_history)),self.cost_history,'r',linewidth='2',label='Train_loss')\n",
        "    plt.plot(np.arange(len(self.cost_history_test)),self.cost_history_test,'b',linewidth='2',label='validation_loss')\n",
        "    plt.legend()\n",
        "    plt.show()\n",
        "    #### END CODE ####"
      ],
      "metadata": {
        "id": "YEJ7q7dV8VxF"
      },
      "execution_count": 70,
      "outputs": []
    },
    {
      "cell_type": "code",
      "source": [
        "# Create a model by instanciating the class logistic_regression_l1\n",
        "model1 = logistic_regression_l1_l2_l12(x_test,y_test,batch_size=60,lambda1=0.5,lambda2=0, num_iters= 1000, threshold= 0.5, tolerance= 1e-15, lr= 0.0001)"
      ],
      "metadata": {
        "id": "qjldWTkTGF9s"
      },
      "execution_count": 86,
      "outputs": []
    },
    {
      "cell_type": "code",
      "source": [
        "%%time\n",
        "model1.fit(x_train, y_train)"
      ],
      "metadata": {
        "colab": {
          "base_uri": "https://localhost:8080/"
        },
        "id": "lNcJeoYNGKMX",
        "outputId": "0464e298-ef25-41ba-9f4b-d6dddc50bd2d"
      },
      "execution_count": 87,
      "outputs": [
        {
          "output_type": "stream",
          "name": "stdout",
          "text": [
            "cost for 100 iteration : 0.3809264613826215\n",
            "cost for 200 iteration : 0.5622982682682381\n",
            "cost for 300 iteration : 0.4427043222519544\n",
            "cost for 400 iteration : 0.3902473802491886\n",
            "cost for 500 iteration : 0.39934206777479125\n",
            "cost for 600 iteration : 0.64948423972661\n",
            "cost for 700 iteration : 0.3091111627991087\n",
            "cost for 800 iteration : 0.305886056083978\n",
            "cost for 900 iteration : 0.5080027402471282\n",
            "CPU times: user 1.56 s, sys: 20.6 ms, total: 1.58 s\n",
            "Wall time: 1.56 s\n"
          ]
        }
      ]
    },
    {
      "cell_type": "code",
      "source": [
        "pred1= model1.predict(x_test)"
      ],
      "metadata": {
        "id": "0TqI6LBXe_xf"
      },
      "execution_count": 88,
      "outputs": []
    },
    {
      "cell_type": "code",
      "source": [
        "# Predict Proba\n",
        "model1.predict_proba(x_test)"
      ],
      "metadata": {
        "colab": {
          "base_uri": "https://localhost:8080/"
        },
        "id": "2-ubzOchfFDp",
        "outputId": "db1e19d5-0141-44e6-9448-74dfb21e6d96"
      },
      "execution_count": 89,
      "outputs": [
        {
          "output_type": "execute_result",
          "data": {
            "text/plain": [
              "array([[0.69368948],\n",
              "       [0.18806261],\n",
              "       [0.05352728],\n",
              "       [0.15655864],\n",
              "       [0.15762676],\n",
              "       [0.65492132],\n",
              "       [0.45965579],\n",
              "       [0.53787301],\n",
              "       [0.71848387],\n",
              "       [0.06092673],\n",
              "       [0.63869457],\n",
              "       [0.06475224],\n",
              "       [0.08684367],\n",
              "       [0.14690063],\n",
              "       [0.4582123 ],\n",
              "       [0.26824089],\n",
              "       [0.29275055],\n",
              "       [0.43158462],\n",
              "       [0.19673162],\n",
              "       [0.36982453],\n",
              "       [0.19023697],\n",
              "       [0.20745523],\n",
              "       [0.149678  ],\n",
              "       [0.85919751],\n",
              "       [0.30937796],\n",
              "       [0.62218575],\n",
              "       [0.74326768],\n",
              "       [0.55069487],\n",
              "       [0.12129802],\n",
              "       [0.17877087],\n",
              "       [0.63923635],\n",
              "       [0.71477664],\n",
              "       [0.1546962 ],\n",
              "       [0.87212014],\n",
              "       [0.18732516],\n",
              "       [0.83233875],\n",
              "       [0.90570531],\n",
              "       [0.21356466],\n",
              "       [0.1300304 ],\n",
              "       [0.19991091],\n",
              "       [0.78724749],\n",
              "       [0.25463896],\n",
              "       [0.29531291],\n",
              "       [0.4013968 ],\n",
              "       [0.10861704],\n",
              "       [0.06503267],\n",
              "       [0.22237315],\n",
              "       [0.24106117],\n",
              "       [0.62772295],\n",
              "       [0.22118906],\n",
              "       [0.22877714],\n",
              "       [0.74526512],\n",
              "       [0.88423512],\n",
              "       [0.00339459],\n",
              "       [0.24127883],\n",
              "       [0.52232357],\n",
              "       [0.07054449],\n",
              "       [0.35374237],\n",
              "       [0.08991618],\n",
              "       [0.24676824],\n",
              "       [0.8119122 ],\n",
              "       [0.11846782],\n",
              "       [0.030356  ],\n",
              "       [0.11086351],\n",
              "       [0.3272882 ],\n",
              "       [0.20370135],\n",
              "       [0.15552438],\n",
              "       [0.12261255],\n",
              "       [0.10476952],\n",
              "       [0.61855905],\n",
              "       [0.07333491],\n",
              "       [0.34205141],\n",
              "       [0.22075753],\n",
              "       [0.51913019],\n",
              "       [0.37584437],\n",
              "       [0.03713839],\n",
              "       [0.07202133],\n",
              "       [0.47273026],\n",
              "       [0.47281225],\n",
              "       [0.71103897],\n",
              "       [0.27543734],\n",
              "       [0.86658936],\n",
              "       [0.34895239],\n",
              "       [0.06015773],\n",
              "       [0.12212264],\n",
              "       [0.46555901],\n",
              "       [0.93096089],\n",
              "       [0.22988113],\n",
              "       [0.19460221],\n",
              "       [0.4241739 ],\n",
              "       [0.32850059],\n",
              "       [0.05783511],\n",
              "       [0.42243384],\n",
              "       [0.08822959],\n",
              "       [0.34928361],\n",
              "       [0.24980577],\n",
              "       [0.04285182],\n",
              "       [0.21361426],\n",
              "       [0.13587772],\n",
              "       [0.38817685],\n",
              "       [0.72044582],\n",
              "       [0.81368026],\n",
              "       [0.9173794 ],\n",
              "       [0.07968057],\n",
              "       [0.56682522],\n",
              "       [0.1963276 ],\n",
              "       [0.86891084],\n",
              "       [0.22462742],\n",
              "       [0.48086863],\n",
              "       [0.36804511],\n",
              "       [0.35957513],\n",
              "       [0.39422811],\n",
              "       [0.16661295],\n",
              "       [0.12511806],\n",
              "       [0.29829141],\n",
              "       [0.20617861],\n",
              "       [0.47454599],\n",
              "       [0.32550636],\n",
              "       [0.86304795],\n",
              "       [0.06137238],\n",
              "       [0.09202495],\n",
              "       [0.21753658],\n",
              "       [0.12141535],\n",
              "       [0.77541746],\n",
              "       [0.45787962],\n",
              "       [0.15473093],\n",
              "       [0.35534938],\n",
              "       [0.47252138],\n",
              "       [0.29412775],\n",
              "       [0.25823776],\n",
              "       [0.83741327],\n",
              "       [0.61694302],\n",
              "       [0.13907766],\n",
              "       [0.04535462],\n",
              "       [0.23462606],\n",
              "       [0.14279786],\n",
              "       [0.0585254 ],\n",
              "       [0.38662481],\n",
              "       [0.7854036 ],\n",
              "       [0.23418055],\n",
              "       [0.18406   ],\n",
              "       [0.74982518],\n",
              "       [0.54680953],\n",
              "       [0.15157534],\n",
              "       [0.11056603],\n",
              "       [0.55897666],\n",
              "       [0.35624564],\n",
              "       [0.19074099],\n",
              "       [0.48365874],\n",
              "       [0.55697405],\n",
              "       [0.8464783 ],\n",
              "       [0.76880213],\n",
              "       [0.85061701],\n",
              "       [0.35352705]])"
            ]
          },
          "metadata": {},
          "execution_count": 89
        }
      ]
    },
    {
      "cell_type": "code",
      "source": [
        "model1.plot()"
      ],
      "metadata": {
        "colab": {
          "base_uri": "https://localhost:8080/",
          "height": 279
        },
        "id": "HJc1BpkAIJbp",
        "outputId": "ccd01041-f1f4-434f-85a6-7ac07e9255ac"
      },
      "execution_count": 90,
      "outputs": [
        {
          "output_type": "display_data",
          "data": {
            "image/png": "[encoded data removed]",
            "text/plain": [
              "<Figure size 432x288 with 1 Axes>"
            ]
          },
          "metadata": {
            "needs_background": "light"
          }
        }
      ]
    },
    {
      "cell_type": "markdown",
      "source": [
        "# Concepts [Assignment]:\n",
        "1. Why there is no close form for cross-entropy loss?\n",
        "2. Why we need cross-entropy loss instead of mse?\n",
        "3. Why is logistic regression a type of classification technique and not a regression?"
      ],
      "metadata": {
        "id": "jqSi--hEpa9N"
      }
    },
    {
      "cell_type": "markdown",
      "source": [
        "Answer"
      ],
      "metadata": {
        "id": "WRxLN7rrBV4E"
      }
    },
    {
      "cell_type": "markdown",
      "source": [
        "1. Why there is no close form for cross-entropy loss?"
      ],
      "metadata": {
        "id": "LaQCwCMKBT5q"
      }
    },
    {
      "cell_type": "markdown",
      "source": [
        "We know that the derivative of Cross-entropy loss with respective to $\\theta$ is:\n",
        "\\begin{equation}\n",
        "dl(\\theta)= -\\sum_{i= 1}^{N} x^t\\left(y_{true} -y_{pred} \\right)\n",
        "\\end{equation}\n",
        "\n",
        "so $dl(\\theta)= 0 ⇒ -\\sum_{i= 1}^{N} x^t\\left(y_{true} -y_{pred} \\right)=0$\n",
        ".\n",
        "We know that $x^t \\neq 0$, so $y_{true}=y_{pred}⇒ y_{pred}=\\dfrac{1}{1+exp(-x{^t}θ)}$\n",
        "\n",
        "\n",
        "So $y_{pred}(1+exp(-x{^t}θ)=1 ⇒ θ^*=\\dfrac{log(\\dfrac{y-1}{y})}{x^t} $ exist if only if $y \\neq 0$ and 1\n",
        "\n",
        "There is no close form for the cross-entropy loss because if we assume that the derivative is zero, the estimator $θ$ exists if and only  if only if $y \\neq 0$ and 1, this is not true because we have a banary classification problem."
      ],
      "metadata": {
        "id": "yM_oiHSzByvx"
      }
    },
    {
      "cell_type": "markdown",
      "source": [
        "2.Why we need cross-entropy loss instead of mse?"
      ],
      "metadata": {
        "id": "YqLoQ3iK8AY9"
      }
    },
    {
      "cell_type": "markdown",
      "source": [
        " Cross-entropy is used than MSE for classification, because the decision probability in a classification task is large compared to regression."
      ],
      "metadata": {
        "id": "G-c5DS2v789K"
      }
    },
    {
      "cell_type": "markdown",
      "source": [
        "3. Why is logistic regression a type of classification technique and not a regression?"
      ],
      "metadata": {
        "id": "N2sWPjkI8Mpy"
      }
    },
    {
      "cell_type": "markdown",
      "source": [
        "Logistic regression uses linear regression to create an odd function that is wrapped with a log function to use the regression as a classifier. Thus, it is a type of classification technique and not a regression."
      ],
      "metadata": {
        "id": "AasBZ-1MAF5D"
      }
    }
  ]
}