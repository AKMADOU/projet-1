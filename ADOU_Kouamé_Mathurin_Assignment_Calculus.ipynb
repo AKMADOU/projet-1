{
  "nbformat": 4,
  "nbformat_minor": 0,
  "metadata": {
    "colab": {
      "name": "ADOU_Kouamé_Mathurin_Assignment_Calculus.ipynb",
      "provenance": [],
      "collapsed_sections": [],
      "include_colab_link": true
    },
    "kernelspec": {
      "name": "python3",
      "display_name": "Python 3"
    },
    "language_info": {
      "name": "python"
    }
  },
  "cells": [
    {
      "cell_type": "markdown",
      "metadata": {
        "id": "view-in-github",
        "colab_type": "text"
      },
      "source": [
        "<a href=\"https://colab.research.google.com/github/AKMADOU/projet-1/blob/main/ADOU_Kouam%C3%A9_Mathurin_Assignment_Calculus.ipynb\" target=\"_parent\"><img src=\"https://colab.research.google.com/assets/colab-badge.svg\" alt=\"Open In Colab\"/></a>"
      ]
    },
    {
      "cell_type": "code",
      "execution_count": 1,
      "metadata": {
        "id": "xfrtxYUQZYc-"
      },
      "outputs": [],
      "source": [
        "import numpy as np\n",
        "import matplotlib.pyplot as plt"
      ]
    },
    {
      "cell_type": "markdown",
      "source": [
        "# Instructions:\n",
        "* Save a copy in your drive;\n",
        "* Name your file: `Fullname_Assignment_Calculus.ipynb`\n",
        "* Type your solution in latex (here). Do not screenshot the solution from papers.\n",
        "* Attach pictures for your drawings (for Exercise 4 and 5)"
      ],
      "metadata": {
        "id": "xjRhmofQaMH9"
      }
    },
    {
      "cell_type": "markdown",
      "source": [
        "## Exercise 1\n",
        "Compute the derivative of:\n",
        "\n",
        "1. $g(z)= \\dfrac{1}{1+exp(-z)}$\n",
        "2. $f: \\mathbb{R} \\to \\mathbb{R}$, such that:\n",
        "\\begin{align}\n",
        "f(x)= \\begin{cases}\n",
        "  x^2 \\text{ if } x >0 \\\\\n",
        "  0 \\text{ Otherwise }\n",
        "\\end{cases}\n",
        "\\end{align}\n",
        "where $f$ is differentiable on $\\mathbb{R}$. Show that, $f$ is differentiable at $0$.\n",
        "3. $f: \\mathbb{R} \\to \\mathbb{R}$, such that:\n",
        "\\begin{align}\n",
        "f(x)= \\begin{cases}\n",
        "  x \\text{ if } x >0 \\\\\n",
        "  -x \\text{ if } x \\leq 0\n",
        "\\end{cases}\n",
        "\\end{align}\n",
        "where $f$ is differentiable on $\\mathbb{R}$-$\\{0\\}$. Show that, $f$ is not differentiable at $0$."
      ],
      "metadata": {
        "id": "86D6qRUAZgN9"
      }
    },
    {
      "cell_type": "markdown",
      "source": [
        "\n",
        "## Solution\n",
        "\n",
        "1. \n",
        "$g'(z)= -1* (1+exp(-z)) *-exp(-z) = \\frac{exp(-z)}{(1+exp(-z))^2} $\n",
        "\n",
        "$ =\\frac{1}{1+exp(-z)}\\frac{exp(-z)}{1+exp(-z)}$\n",
        "\n",
        "$ =\\frac{1}{1+exp(-z)}\\frac{1+exp(-z)-1}{1+exp(-z)}$\n",
        "\n",
        "$ =\\frac{1}{1+exp(-z)}(1-\\frac{1}{1+exp(-z)})$\n",
        "\n",
        "$ = g(z)(1-g(z))$\n",
        "\n",
        "---\n",
        "2. \n",
        "we need to calculate the derivative at x = 0: \\\\\n",
        "$ f'(0) = \\lim_{h \\to 0} \\frac{f(0+h) - f(0)}{h}$ \\\\\n",
        "now let's calculate the left and right limits: \\\\\n",
        "$ f'(0) = \\lim_{h \\to 0^+} \\frac{(x+h)^2 - x^2}{h} = \\lim_{h \\to 0^+}\\frac{x^2 +2hx + h^2 - x^2}{h} =\\lim_{h \\to 0^+} \\frac{h(2x+h)}{h} = \\lim_{h \\to 0^+} 2x+ h = \\lim_{h \\to 0^+} 0 + h = 0\\\\ \\\\\n",
        "f'(0) = \\lim_{h \\to 0^-} \\frac{h - 0}{h} = \\lim_{h \\to 0} 1 = 1 $\n",
        "therefore $f$ is differentiable at 0\n",
        "---\n",
        "3. \n",
        "we need to calculate the derivative at x = 0:\n",
        "\n",
        "$ f'(0) = \\lim_{h \\to 0^{+}} \\frac{f(0+h) - f(0)}{h}$\n",
        "\n",
        "$ f'(0) = \\lim_{h \\to 0^{+}} \\frac{h- 0}{h} = \\lim_{h \\to 0} 1 = 1$\n",
        "\n",
        "\n",
        "\n",
        "$ f'(0) = \\lim_{h \\to 0^{-}} \\frac{f(0+h) - f(0)}{h}$\n",
        "$ f'(0) = \\lim_{h \\to 0^{-}} \\frac{-h- 0}{h} = \\lim_{h \\to 0} -1 = -1$\n",
        "\n",
        "\n"
      ],
      "metadata": {
        "id": "neI7mytYC5Q4"
      }
    },
    {
      "cell_type": "markdown",
      "source": [
        "## Exercise 2\n",
        "Given $g(z)= \\dfrac{1}{1+exp(-z)}$ (sigmoid function) and $l(g(z),y)= -\\sum_{i= 1}^{m} \\left( y\\log g(z) + (1-y)\\log(1-g(z))\\right)$ the cross-entropy loss.\n",
        "\n",
        "Recap: \n",
        "<ol>\n",
        "  <li> $z= \\sum_{i= 1}^{n}w_ix_i$</li>\n",
        "  <li> $l(g(z),y)= l(g(z))$ beacuse $y$ is a constant </li>\n",
        "  <li> $l(g(z),y)= l(g(z(w)))$</li>\n",
        "</ol>\n",
        "\n",
        "Compute the the gradient of $l$ with respect to $w$, noted $\\nabla_wl$.\n",
        "\n",
        "`Hint: Apply chain rule`"
      ],
      "metadata": {
        "id": "p4Anh56GZmX-"
      }
    },
    {
      "cell_type": "markdown",
      "source": [
        "# Solution"
      ],
      "metadata": {
        "id": "kP9P0B2matjH"
      }
    },
    {
      "cell_type": "markdown",
      "source": [
        "$∇_{ω}l=\\frac{\\partial l}{\\partial g}×\\frac{\\partial g}{\\partial z}×\\frac{\\partial z}{\\partial ω}$\n",
        "\n",
        "$∇_{ω}l=∇_{ω}(-∑_{i=1}^{n}(y\\log g(z)+(1-y)\\log(1-g(z))))$\n",
        "\n",
        "\n",
        "$∇_{ω}l=(-∑_{i=1}^{n}(y\\frac{∂\\log g(z)}{∂g(z)}+(1-y)\\frac{\\partial \\log(1-g(z))}{∂g(z)}))$\n",
        "\n",
        "\n",
        "$∇_{ω}l=(-∑_{i=1}^{n}(y\\frac{ g(z)(1-g(z))}{g(z)}x_{i}-(1-y)\\frac{(1-g(z))g(z)}{1-g(z)}x_{i}))$\n",
        "\n",
        "$∇_{ω}l=-∑_{i=1}^{n}(y (1-g(z))x_{i}-(1-y)g(z)x_{i})$\n",
        "\n",
        "\n",
        "$∇_{ω}l=-∑_{i=1}^{n}(y -g(z))x_{i}$"
      ],
      "metadata": {
        "id": "Lh83Uxc87Z-W"
      }
    },
    {
      "cell_type": "markdown",
      "source": [
        "## Exercise 3\n",
        "Given a function $f$:\n",
        "$$f: \\mathbb{R}^2 \\to \\mathbb{R }$$ such that $$f(x,y)= x^3-y^3+9xy$$\n",
        "\n",
        "Find the `global minimum` of the function $f$."
      ],
      "metadata": {
        "id": "xgYIN012ZuNS"
      }
    },
    {
      "cell_type": "markdown",
      "source": [
        "# Solution"
      ],
      "metadata": {
        "id": "qVwz37gkavt6"
      }
    },
    {
      "cell_type": "markdown",
      "source": [
        "## f is a polynomial function, so $f\\in C^{∞}$, then f is derivatible.\n",
        "\n",
        "-----\n",
        "\n",
        "$\\frac{∂f}{∂x}(x,y)=3x^{2}+9y=0$.  (1)\n",
        "\n",
        "$\\frac{∂f}{∂y}(x,y)=-3y^{2}+9x=0$. (2)\n",
        "\n",
        "\n",
        "$\\frac{∂^{2}f}{∂x^2}(x,y)=6x$.  \n",
        "\n",
        "$\\frac{∂^2f}{∂y^2}(x,y)=-6y$. \n",
        "\n",
        "$\\frac{∂^2f}{∂x∂y}(x,y)=9$.\n",
        "\n",
        "$\\frac{∂^2f}{∂y∂x}(x,y)=9$\n",
        "\n",
        "--------------------------------------------------------------------------\n",
        "\n",
        "(2)$⇒ -3y^{2}+9x=0$\n",
        "\n",
        "$⇒3x=y^2⇒ x^2=\\frac{y^4}{9}$, so \n",
        "\n",
        "(1) $⇒\\frac{y^4}{3}+9y=0 ⇒ y(\\frac{y^3}{3}+9)=0⇒ y=0 \\text{or} y=-3$\n",
        "\n",
        "\n",
        "for $y=0, x=0$\n",
        "\n",
        "for $y=-3, x=±3$\n",
        "\n",
        "The solution are: (0,0),(3,-3),(-3,-3)\n",
        "\n",
        "----------------------------------------------------------------------------\n",
        "\n",
        "\n",
        "\n",
        "Matrix Hessienne\n",
        "\n",
        "\n",
        "(x,y)=(0,0)\n",
        "\n",
        "\\begin{equation*}\n",
        "Hf(0,0) = \n",
        "\\begin{pmatrix}\n",
        "0 & 9 \\\\\n",
        "9 & 0\n",
        "\\end{pmatrix}\n",
        "\\end{equation*}\n",
        "\n",
        "\n",
        "$detHf(0,0)=-81<0 ⇒(0,0)$ is the local maximun for f.\n",
        "\n",
        "-------------------------------------------------------------------------\n",
        "\n",
        "Matrix Hessienne\n",
        "\n",
        "\n",
        "(x,y)=(3,-3)\n",
        "\n",
        "\\begin{equation*}\n",
        "Hf(3,-3) = \n",
        "\\begin{pmatrix}\n",
        "18 & 9 \\\\\n",
        "9 & 18\n",
        "\\end{pmatrix}\n",
        "\\end{equation*}\n",
        "\n",
        "\n",
        "$detHf(3,-3)=243>0 ⇒(3,-3)$ is the local minimun for f.\n",
        "\n",
        "\n",
        "-------------------------------------------------------------------------\n",
        "\n",
        "Matrix Hessienne\n",
        "\n",
        "\n",
        "(x,y)=(-3,-3)\n",
        "\n",
        "\\begin{equation*}\n",
        "Hf(-3,-3) = \n",
        "\\begin{pmatrix}\n",
        "-18 & 9 \\\\\n",
        "9 & 18\n",
        "\\end{pmatrix}\n",
        "\\end{equation*}\n",
        "\n",
        "\n",
        "$detHf(-3,-3)=-405<0 ⇒(-3,-3)$ is the local maximun for f."
      ],
      "metadata": {
        "id": "tZPpTWNnGHcI"
      }
    },
    {
      "cell_type": "markdown",
      "source": [
        "# Exercise 4\n",
        "$$f(x,y)= (x+y)max(y,z)$$ with x=1, y= 2 and z=0\n",
        "\n",
        "  a. Write the forward pass;\n",
        "\n",
        "  b. Draw the Computational Graph;\n",
        "\n",
        "  c. Find the upstream, local and downstream gradients."
      ],
      "metadata": {
        "id": "KjgffXr7Z3LX"
      }
    },
    {
      "cell_type": "markdown",
      "source": [
        "# Solution"
      ],
      "metadata": {
        "id": "kA-JxYg3axRK"
      }
    },
    {
      "cell_type": "markdown",
      "source": [
        "# With x=1, y=2 and z=0\n",
        "\n",
        "# a.Write the forward pass\n",
        "Let $h(x,y)=x+y$ and $g(y,z)=max(y,z)$\n",
        "\n",
        "so $f(x,y,z)=h(x,y)*g(y,z)$\n",
        "\n",
        "#b.Draw the Computational Graph;\n",
        "\n",
        "![Untitled Diagram.drawio (2).png](data:image/png;base64,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)\n"
      ],
      "metadata": {
        "id": "-9VF6OFOo0nU"
      }
    },
    {
      "cell_type": "markdown",
      "source": [
        "#c. Find the upstream, local and downstream gradients.\n",
        "\n",
        ".Find the upstream gradient\n",
        "\n",
        "$\\frac{∂f}{∂h}(x,y,z)=h(x,y)=x+y$\n",
        "\n",
        "\n",
        "$\\frac{∂f}{∂g}(x,y,z)=g(y,z)=max(y,z)$\n",
        "\n",
        "----------------------------------------\n",
        "\n",
        ".Find the local gradient.\n",
        "\n",
        "$\\frac{∂h}{∂x}(x,y)=1$\n",
        "\n",
        "$\\frac{∂h}{∂y}(x,y)=1$\n",
        "\n",
        ">* if $y>z⇒ g(y,z)=y$\n",
        "\n",
        "$\\frac{∂g}{∂y}(x,y)=1$\n",
        "\n",
        "\n",
        ">* if $y<z⇒ g(y,z)=z$\n",
        "\n",
        "$\\frac{∂g}{∂z}(x,y)=1$\n",
        "\n",
        "---------------------------------\n",
        "\n",
        "\n",
        ".Find the downstream gradient\n",
        "\n",
        ">* if $y>z⇒ f(x,y,z)=(x+y)y=xy+y^2$\n",
        "\n",
        "$\\frac{∂f}{∂x}(x,y,z)=y$\n",
        "\n",
        "\n",
        "$\\frac{∂f}{∂y}(x,y,z)=x+2y$\n",
        "\n",
        "\n",
        ">* if $y<z⇒ f(x,y,z)=(x+y)z=xz+yz$\n",
        "\n",
        "$\\frac{∂f}{∂x}(x,y,z)=z$\n",
        "\n",
        "\n",
        "$\\frac{∂f}{∂y}(x,y,z)=z$\n",
        "\n",
        "$\\frac{∂f}{∂z}(x,y,z)=x+y$\n",
        "\n"
      ],
      "metadata": {
        "id": "arNZ6vQrq4VS"
      }
    },
    {
      "cell_type": "markdown",
      "source": [
        "# Exercise 5\n",
        "\n",
        "Given logistic function $g(z)$ and the cross-entropy l(g(z),y)) where $z= w^tx$.\n",
        "\n",
        "  a. Write the forward pass;\n",
        "\n",
        "  b. Draw the Computational Graph;\n",
        "\n",
        "  c. Find the upstream, local and downstream gradients.\n"
      ],
      "metadata": {
        "id": "ngr1JwTrZ0fJ"
      }
    },
    {
      "cell_type": "markdown",
      "source": [
        "# Solution"
      ],
      "metadata": {
        "id": "2DOkpvV-ayU3"
      }
    },
    {
      "cell_type": "markdown",
      "source": [
        "# a. Write the forward pass;\n",
        "\n",
        "$Z=W^TX$\n",
        "\n",
        "$h=g(Z)$\n",
        "\n",
        "$f=l(h,y)$\n",
        "\n",
        "\n",
        "#b. Draw the Computational graph;\n",
        "\n",
        "![Untitled Diagram.drawio (3).png](data:image/png;base64,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)"
      ],
      "metadata": {
        "id": "DMiZU07tDTFU"
      }
    },
    {
      "cell_type": "markdown",
      "source": [
        "# c. Find the upstream, local and downstream gradients.\n",
        "\n",
        ".Find the upstream gradient.\n",
        "\n",
        "$\\frac{∂f}{∂g}=-(\\sum_{i=1}^{n}\\frac{y}{g(z)}-\\frac{1-y}{1-g(z)})$\n",
        "\n",
        "\n",
        "\n",
        "$\\frac{∂f}{∂g}=-(\\sum_{i=1}^{n}\\frac{y(1-g(z))-g(z)(1-y)}{g(z)(1-g(z))})$\n",
        "\n",
        "\n",
        "\n",
        "$\\frac{∂f}{∂g}=-\\sum_{i=1}^{n}\\frac{(y-g(z))}{g(z)(1-g(z))}$\n",
        "\n",
        "\n",
        "--------------------------------\n",
        "\n",
        "\n",
        "Find the local gradient. \n",
        "\n",
        "\n",
        "$\\frac{∂g}{∂z}=g(z)(1-g(z))$\n",
        "\n",
        "\n",
        "-----------------------\n",
        "\n",
        "Find the downstream gradients.\n",
        "\n",
        ">* $\\frac{∂f}{∂w}=\\frac{∂f}{∂g}×\\frac{∂g}{∂z}×\\frac{∂z}{∂w}$\n",
        "\n",
        "$\\frac{∂f}{∂g}=-\\sum_{i=1}^{n}\\frac{(y-g(z))}{g(z)(1-g(z))}$\n",
        "\n",
        "$\\frac{∂g}{∂z}=g(z)(1-g(z))$\n",
        "\n",
        "$\\frac{∂f}{∂w}=-\\sum_{i=1}^{n}\\frac{(y-g(z))}{g(z)(1-g(z))}×g(z)(1-g(z))x_i$\n",
        "\n",
        "$\\frac{∂f}{∂w}=-\\sum_{i=1}^{n}(y-g(z))x_i$\n",
        "\n",
        "\n",
        ">* $\\frac{∂f}{∂x}=\\frac{∂f}{∂g}×\\frac{∂g}{∂z}×\\frac{∂z}{∂x}$\n",
        "\n",
        "$\\frac{∂f}{∂g}=-\\sum_{i=1}^{n}\\frac{(y-g(z))}{g(z)(1-g(z))}$\n",
        "\n",
        "$\\frac{∂g}{∂z}=g(z)(1-g(z))$\n",
        "\n",
        "\n",
        "\n",
        "$\\frac{∂f}{∂x}=-\\sum_{i=1}^{n}(y-g(z))w_{i}^T$"
      ],
      "metadata": {
        "id": "CnbOc4MTD91m"
      }
    },
    {
      "cell_type": "code",
      "source": [
        ""
      ],
      "metadata": {
        "id": "Votvv4MbZa-G"
      },
      "execution_count": null,
      "outputs": []
    }
  ]
}